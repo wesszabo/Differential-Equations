{
 "cells": [
  {
   "cell_type": "markdown",
   "metadata": {
    "slideshow": {
     "slide_type": "slide"
    },
    "toc": true
   },
   "source": [
    "<h1>4. gyakorlat lineáris rendszer 1.<span class=\"tocSkip\"></span></h1>\n",
    "<div class=\"toc\"><ul class=\"toc-item\"></ul></div>"
   ]
  },
  {
   "cell_type": "markdown",
   "metadata": {
    "slideshow": {
     "slide_type": "slide"
    }
   },
   "source": [
    "<div class='exercise'>\n",
    "Adjuk meg az általános megoldást\n",
    "\n",
    "\\begin{cases} \n",
    "\\begin{align}\n",
    "\\dot{x}_1 &=2x_1+x_2,  \\\\\n",
    "\\dot{x}_2 &=3x_1+4x_2. \n",
    "\\end{align}\n",
    "\\end{cases}\n",
    "    \n",
    "</div>"
   ]
  },
  {
   "cell_type": "markdown",
   "metadata": {
    "slideshow": {
     "slide_type": "slide"
    }
   },
   "source": [
    "<div class='solution'>\n",
    "Legyen $\\mathbf{x}=\\begin{bmatrix}\n",
    "x_1 \\\\ \n",
    "x_2 \n",
    "\\end{bmatrix}$.     \n",
    "Az együttható mátrix\n",
    "\n",
    "$$\n",
    "A=\\begin{bmatrix}\n",
    "2 & 1\\\\ \n",
    "3 & 4\n",
    "\\end{bmatrix}.\n",
    "$$\n",
    "    \n",
    "Meg kell határoznunk $A$ sajátértékeit, sajátvektorait.\n",
    "</div>"
   ]
  },
  {
   "cell_type": "markdown",
   "metadata": {
    "slideshow": {
     "slide_type": "fragment"
    }
   },
   "source": [
    "<div class='solution_no_word'>\n",
    "A sajátértékeket a $\\det(A-\\lambda I)=0$ egyenletből kapjuk meg. Mivel\n",
    "\n",
    "$$\n",
    "\\det(A\\!\\!-\\!\\!\\lambda I)\\!=\\!\n",
    "\\begin{vmatrix}\n",
    "2\\!-\\!\\lambda\\! &\\! 1\\\\ \n",
    "3\\! & 4\\!-\\!\\lambda\n",
    "\\end{vmatrix}\n",
    "\\!=\\!\\lambda^2\\!-\\!6\\lambda\\!+\\!5,\n",
    "$$\n",
    "\n",
    "ezért $\\lambda_1=1$, $\\lambda_2=5$.\n",
    "</div>"
   ]
  },
  {
   "cell_type": "markdown",
   "metadata": {
    "slideshow": {
     "slide_type": "slide"
    }
   },
   "source": [
    "<div class='solution_no_word'>\n",
    "$\\lambda_1=1$.\n",
    "\n",
    "Az $\\mathbf{u}_1=\n",
    "\\begin{bmatrix}\n",
    "u_{11}\\\\\n",
    "u_{21}\n",
    "\\end{bmatrix}\n",
    "$ sajátvektort a \n",
    "\n",
    "$$\n",
    "\\begin{bmatrix}\n",
    "2-1 & 1\\\\ \n",
    "3 & 4-1\n",
    "\\end{bmatrix}\n",
    "\\begin{bmatrix}\n",
    "u_{11}\\\\\n",
    "u_{21}\n",
    "\\end{bmatrix}=\n",
    "\\begin{bmatrix}\n",
    "0\\\\\n",
    "0\n",
    "\\end{bmatrix}\n",
    "$$\n",
    "\n",
    "egyenletből kapjuk. Azaz, $u_{11}+u_{21}=0$.\n",
    "\n",
    "Legyen $u_{11}=1$, ekkor $u_{21}=-1$. \n",
    "\n",
    "Tehát a $\\lambda_1=1$-hez tartozó sajátvektor $\\mathbf{u}_1=\\begin{bmatrix}\n",
    "1\\\\\n",
    "-1\n",
    "\\end{bmatrix}$.\n",
    "</div>"
   ]
  },
  {
   "cell_type": "markdown",
   "metadata": {
    "slideshow": {
     "slide_type": "slide"
    }
   },
   "source": [
    "<div class='solution_no_word'>\n",
    "$\\lambda_2=5$.\n",
    "\n",
    "Az $\\mathbf{u}_2=\n",
    "\\begin{bmatrix}\n",
    "u_{12}\\\\\n",
    "u_{22}\n",
    "\\end{bmatrix}\n",
    "$ sajátvektort a \n",
    "\n",
    "$$\n",
    "\\begin{bmatrix}\n",
    "2-5 & 1\\\\ \n",
    "3 & 4-5\n",
    "\\end{bmatrix}\n",
    "\\begin{bmatrix}\n",
    "u_{12}\\\\\n",
    "u_{22}\n",
    "\\end{bmatrix}=\n",
    "\\begin{bmatrix}\n",
    "0\\\\\n",
    "0\n",
    "\\end{bmatrix}\n",
    "$$\n",
    "\n",
    "egyenletből kapjuk. Azaz, $-3u_{12}+u_{22}=0$.\n",
    "\n",
    "Legyen $u_{12}=1$, ekkor $u_{22}=3$. \n",
    "\n",
    "Tehát a $\\lambda_2=5$-höz tartozó sajátvektor $\\mathbf{u}_2=\n",
    "\\begin{bmatrix}\n",
    "1\\\\\n",
    "3\n",
    "\\end{bmatrix}$.\n",
    "</div>"
   ]
  },
  {
   "cell_type": "markdown",
   "metadata": {
    "slideshow": {
     "slide_type": "slide"
    }
   },
   "source": [
    "<div class='solution_no_word'>\n",
    "Mivel $\\lambda_1\\neq\\lambda_2$, az egyenlet összes megoldása\n",
    "\n",
    "$$\n",
    "\\mathbf{x}(t)=c_1e^t\n",
    "\\begin{bmatrix}\n",
    "1\\\\\n",
    "-1\n",
    "\\end{bmatrix}\n",
    "+\n",
    "c_2e^{5t}\n",
    "\\begin{bmatrix}\n",
    "1\\\\\n",
    "3\n",
    "\\end{bmatrix},\n",
    "$$\n",
    "\n",
    "ahol $c_1,c_2\\in\\mathbf{R}$ tetszőleges. \n",
    "Tehát  \n",
    "\n",
    "\\begin{align}\n",
    "x_1(t) &=c_1e^t+c_2e^{5t},\\\\\n",
    "x_2(t) &=-c_1e^t+3c_2e^{5t},\n",
    "\\end{align}\n",
    "\n",
    "ahol $c_1,c_2\\in\\mathbf{R}$ tetszőleges. $\\blacksquare$\n",
    "</div>"
   ]
  },
  {
   "cell_type": "code",
   "execution_count": 17,
   "metadata": {
    "hide_input": false,
    "init_cell": true,
    "scrolled": true,
    "slideshow": {
     "slide_type": "-"
    }
   },
   "outputs": [
    {
     "data": {
      "text/html": [
       "<script src=\"https://cdn.rawgit.com/parente/4c3e6936d0d7a46fd071/raw/65b816fb9bdd3c28b4ddf3af602bfd6015486383/code_toggle.js\"></script>\n"
      ],
      "text/plain": [
       "<IPython.core.display.HTML object>"
      ]
     },
     "metadata": {},
     "output_type": "display_data"
    }
   ],
   "source": [
    "%%html\n",
    "<script src=\"https://cdn.rawgit.com/parente/4c3e6936d0d7a46fd071/raw/65b816fb9bdd3c28b4ddf3af602bfd6015486383/code_toggle.js\"></script>"
   ]
  },
  {
   "cell_type": "code",
   "execution_count": 1,
   "metadata": {
    "hide_input": true,
    "init_cell": true,
    "slideshow": {
     "slide_type": "-"
    }
   },
   "outputs": [
    {
     "data": {
      "text/html": [
       "<style>div.h1 {\n",
       "    font-family: Arial, Helvetica, sans-serif;\n",
       "    font-size: 2em;\n",
       "    font-weight: bold;\n",
       "}\n",
       "\n",
       "p.author {\n",
       "    font-family: 'Times New Roman', Times, serif;\n",
       "    font-size: 1.2em;\n",
       "    text-align: justify;\n",
       "    line-height: normal;\n",
       "}\n",
       "\n",
       "p.date {\n",
       "    font-family: 'Times New Roman', Times, serif;\n",
       "    font-size: 1em;\n",
       "    text-align: justify;\n",
       "}\n",
       "\n",
       "p.abstract {\n",
       "    font-family: 'Times New Roman', Times, serif;\n",
       "    font-size: 1.5em;\n",
       "    text-align: left;\n",
       "    line-height: 1.4;\n",
       "}\n",
       "\n",
       "p.normal {\n",
       "    font-family: 'Times New Roman', Times, serif;\n",
       "    font-size: 1.3em;\n",
       "    text-align: justify;\n",
       "    line-height: 1.2;\n",
       "}\n",
       "\n",
       "p.normal-indent {\n",
       "    font-family: 'Times New Roman', Times, serif;\n",
       "    font-size: 1.3em;\n",
       "    text-align: justify;\n",
       "    line-height: 1.2;\n",
       "    text-indent: 0.5em;\n",
       "}\n",
       "\n",
       ".definition {\n",
       "    font-size: 1.1em;\n",
       "    text-align: left;\n",
       "    border-left-color: blue;\n",
       "    border-left-style: solid;\n",
       "    border-left-width: 0.3em;\n",
       "    padding-left: 0.6em;\n",
       "}\n",
       "\n",
       ".theorem {\n",
       "    font-size: 1.1em;\n",
       "    text-align: left;\n",
       "    border-left-color: rgb(255, 47, 0);\n",
       "    border-left-style: solid;\n",
       "    border-left-width: 0.3em;\n",
       "    padding-left: 0.6em;\n",
       "    font-style: italic;\n",
       "}\n",
       "\n",
       ".proof {\n",
       "    font-size: 1.1em;\n",
       "    text-align: left;\n",
       "    border-left-color: rgb(19, 114, 27);\n",
       "    border-left-style: solid;\n",
       "    border-left-width: 0.3em;\n",
       "    padding-left: 0.6em;\n",
       "}\n",
       "\n",
       ".exercise {\n",
       "    font-size: 1.1em;\n",
       "    text-align: left;\n",
       "    border-left-color: rgb(204,153,102);\n",
       "    border-left-style: solid;\n",
       "    border-left-width: 0.3em;\n",
       "    padding-left: 0.6em;\n",
       "}\n",
       "\n",
       ".exercise::before {\n",
       "    content: counter(exercise) \". Feladat. \";\n",
       "    counter-increment: exercise;\n",
       "    font-weight: bold;\n",
       "}\n",
       "\n",
       ".solution {\n",
       "    font-size: 1.1em;\n",
       "    text-align: left;\n",
       "    border-left-color: rgb(204,153,102);\n",
       "    border-left-style: solid;\n",
       "    border-left-width: 0.3em;\n",
       "    padding-left: 0.6em;\n",
       "}\n",
       "\n",
       ".solution::before {\n",
       "    content: \"Megoldás. \";\n",
       "    font-weight: bold;\n",
       "}\n",
       "\n",
       ".solution_no_word {\n",
       "    font-size: 1.1em;\n",
       "    text-align: left;\n",
       "    border-left-color: rgb(204,153,102);\n",
       "    border-left-style: solid;\n",
       "    border-left-width: 0.3em;\n",
       "    padding-left: 0.6em;\n",
       "}\n",
       "\n",
       "\n",
       ".prompt.output_prompt {\n",
       "    visibility: hidden;\n",
       "}</style>"
      ],
      "text/plain": [
       "<IPython.core.display.HTML object>"
      ]
     },
     "execution_count": 1,
     "metadata": {},
     "output_type": "execute_result"
    }
   ],
   "source": [
    "from IPython.core.display import HTML\n",
    "import urllib.request\n",
    "response = urllib.request.urlopen('https://raw.githubusercontent.com/wesszabo/Differential-Equations/master/CSS/hw.css')\n",
    "HTML(response.read().decode(\"utf-8\"))"
   ]
  }
 ],
 "metadata": {
  "celltoolbar": "Initialization Cell",
  "hide_input": true,
  "kernelspec": {
   "display_name": "Python 3",
   "language": "python",
   "name": "python3"
  },
  "language_info": {
   "codemirror_mode": {
    "name": "ipython",
    "version": 3
   },
   "file_extension": ".py",
   "mimetype": "text/x-python",
   "name": "python",
   "nbconvert_exporter": "python",
   "pygments_lexer": "ipython3",
   "version": "3.7.6"
  },
  "rise": {
   "autolaunch": true
  },
  "toc": {
   "base_numbering": 1,
   "nav_menu": {
    "height": "47px",
    "width": "177px"
   },
   "number_sections": true,
   "sideBar": true,
   "skip_h1_title": false,
   "title_cell": "4. gyakorlat lineáris rendszer 1.",
   "title_sidebar": "4. gyakorlat lineáris rendszer 1.",
   "toc_cell": true,
   "toc_position": {
    "height": "calc(100% - 180px)",
    "left": "10px",
    "top": "150px",
    "width": "165px"
   },
   "toc_section_display": true,
   "toc_window_display": false
  }
 },
 "nbformat": 4,
 "nbformat_minor": 4
}
