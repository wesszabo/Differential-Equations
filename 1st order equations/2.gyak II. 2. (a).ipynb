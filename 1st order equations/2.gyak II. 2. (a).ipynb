{
 "cells": [
  {
   "cell_type": "markdown",
   "metadata": {
    "slideshow": {
     "slide_type": "slide"
    },
    "toc": true
   },
   "source": [
    "<h1>2. gyakorlat II. 2. (a) feladat<span class=\"tocSkip\"></span></h1>\n",
    "<div class=\"toc\"><ul class=\"toc-item\"></ul></div>"
   ]
  },
  {
   "cell_type": "markdown",
   "metadata": {
    "slideshow": {
     "slide_type": "slide"
    }
   },
   "source": [
    "<div class='exercise'>\n",
    "Oldjuk meg\n",
    "\n",
    "\\begin{equation}\\label{eq:origin}\n",
    "y'(t)=\\frac{y(t)}{t}+t.\n",
    "\\end{equation}\n",
    "\n",
    "Adjuk meg az általános megoldást.\n",
    "</div>"
   ]
  },
  {
   "cell_type": "markdown",
   "metadata": {
    "slideshow": {
     "slide_type": "slide"
    }
   },
   "source": [
    "<div class='solution'>\n",
    "\n",
    "(a) Először a homogén egyenletet oldjuk meg. \n",
    "\n",
    "$$\n",
    "y'(t)=\\frac{y(t)}{t}.\n",
    "$$\n",
    "\n",
    "Az egyenlet konstans függvény megoldása\n",
    "\n",
    "$$\n",
    "y(t)=\\underset{\\sim}{0}.\n",
    "$$\n",
    "</div>"
   ]
  },
  {
   "cell_type": "markdown",
   "metadata": {
    "slideshow": {
     "slide_type": "slide"
    }
   },
   "source": [
    "<div class='solution_no_word'>\n",
    "Az egyenletet\n",
    "\n",
    "$$\n",
    "\\frac{dy}{dt}=\\frac{y}{t}\n",
    "$$\n",
    "\n",
    "alakban írva a változókat szét tudjuk választani\n",
    "\n",
    "$$\n",
    "\\frac{1}{y}\\,dy=\\frac{1}{t}\\,dt.\n",
    "$$\n",
    "\n",
    "Mindkét oldalt integrálva kapjuk, hogy\n",
    "\n",
    "$$\n",
    "\\ln|y|=\\ln|t|+C,\n",
    "$$\n",
    "\n",
    "ahol $C$\n",
    "</div>"
   ]
  },
  {
   "cell_type": "markdown",
   "metadata": {
    "slideshow": {
     "slide_type": "fragment"
    }
   },
   "source": [
    "<div class='solution_no_word'>\n",
    "tetszőleges konstans.\n",
    "</div>"
   ]
  },
  {
   "cell_type": "markdown",
   "metadata": {
    "slideshow": {
     "slide_type": "slide"
    }
   },
   "source": [
    "<div class='solution_no_word'>\n",
    "Rendezve az egyenletet, \n",
    "\n",
    "$$\n",
    "|y|=C |t|,\n",
    "$$\n",
    "\n",
    "ahol $C$\n",
    "</div>"
   ]
  },
  {
   "cell_type": "markdown",
   "metadata": {
    "slideshow": {
     "slide_type": "fragment"
    }
   },
   "source": [
    "<div class='solution_no_word'>\n",
    "tetszőleges pozitív konstans.\n",
    "</div>"
   ]
  },
  {
   "cell_type": "markdown",
   "metadata": {
    "slideshow": {
     "slide_type": "slide"
    }
   },
   "source": [
    "<div class='solution_no_word'>\n",
    "Ebből \n",
    "\n",
    "$$\n",
    "y(t)=C t,\n",
    "$$\n",
    "\n",
    "ahol $C$\n",
    "</div>"
   ]
  },
  {
   "cell_type": "markdown",
   "metadata": {
    "slideshow": {
     "slide_type": "fragment"
    }
   },
   "source": [
    "<div class='solution_no_word'>\n",
    "tetszőleges nem-nulla konstans. \n",
    "</div>"
   ]
  },
  {
   "cell_type": "markdown",
   "metadata": {
    "slideshow": {
     "slide_type": "slide"
    }
   },
   "source": [
    "<div class='solution_no_word'>\n",
    "A $C=0$ esetben megkapjuk a konstans függvény megoldást. \n",
    "Ezért a homogén egyenlet összes megoldása\n",
    "\n",
    "$$\n",
    "y_{hö}(t)=C t,\n",
    "$$\n",
    "\n",
    "ahol $C$ tetszőleges valós szám lehet.\n",
    "</div>"
   ]
  },
  {
   "cell_type": "markdown",
   "metadata": {
    "slideshow": {
     "slide_type": "slide"
    }
   },
   "source": [
    "<div class='solution_no_word'>\n",
    "\n",
    "(b) Az inhomogén egyenlet egy partikuláris megoldását \n",
    "\n",
    "$$\n",
    "y(t)= ?\n",
    "$$\n",
    "\n",
    "alakban keressük, ahol\n",
    "</div>"
   ]
  },
  {
   "cell_type": "markdown",
   "metadata": {
    "slideshow": {
     "slide_type": "fragment"
    }
   },
   "source": [
    "<div class='solution_no_word'>\n",
    "$$\n",
    "y(t)=c(t)\\, t.\n",
    "$$\n",
    "</div>"
   ]
  },
  {
   "cell_type": "markdown",
   "metadata": {
    "slideshow": {
     "slide_type": "slide"
    }
   },
   "source": [
    "<div class='solution_no_word'>\n",
    "Ebből \n",
    "\n",
    "$$\n",
    "y'(t)=c'(t)\\,t+c(t).\n",
    "$$\n",
    "\n",
    "Visszahelyettesítve az eredeti egyenletbe azt kapjuk, hogy \n",
    "\n",
    "$$\n",
    "c'(t)t+c(t)=c(t)+t,\n",
    "$$\n",
    "\n",
    "amiből rendezés után\n",
    "\n",
    "$$\n",
    "c'(t)=1\n",
    "$$\n",
    "\n",
    "adódik. Integrálás után\n",
    "\n",
    "$$\n",
    "c(t)=?\n",
    "$$\n",
    "</div>"
   ]
  },
  {
   "cell_type": "markdown",
   "metadata": {
    "slideshow": {
     "slide_type": "slide"
    }
   },
   "source": [
    "<div class='solution_no_word'>\n",
    "$$\n",
    "c(t)=t\n",
    "$$\n",
    "\n",
    "adódik.\n",
    "</div>"
   ]
  },
  {
   "cell_type": "markdown",
   "metadata": {
    "slideshow": {
     "slide_type": "slide"
    }
   },
   "source": [
    "<div class='solution_no_word'>\n",
    "Tehát az inhomogén egyenlet egy partikuláris megoldása\n",
    "\n",
    "$$\n",
    "y_{ihp}(t)=?\n",
    "$$\n",
    "</div>"
   ]
  },
  {
   "cell_type": "markdown",
   "metadata": {
    "slideshow": {
     "slide_type": "fragment"
    }
   },
   "source": [
    "<div class='solution_no_word'>\n",
    "$$\n",
    "y_{ihp}(t)=t^2.\n",
    "$$\n",
    "</div>"
   ]
  },
  {
   "cell_type": "markdown",
   "metadata": {
    "slideshow": {
     "slide_type": "slide"
    }
   },
   "source": [
    "<div class='solution_no_word'>\n",
    "Az inhomogén egyenlet összes megoldása \n",
    "\n",
    "$$\n",
    "y_{ihö}(t)=?\n",
    "$$\n",
    "</div>"
   ]
  },
  {
   "cell_type": "markdown",
   "metadata": {
    "slideshow": {
     "slide_type": "fragment"
    }
   },
   "source": [
    "<div class='solution_no_word'>\n",
    "$$\n",
    "y_{ihö}(t)=y_{hö}(t)+y_{ihp}(t),\n",
    "$$\n",
    "</div>"
   ]
  },
  {
   "cell_type": "markdown",
   "metadata": {
    "slideshow": {
     "slide_type": "slide"
    }
   },
   "source": [
    "<div class='solution_no_word'>\n",
    "azaz,\n",
    "\n",
    "$$\n",
    "y_{ihö}(t)=Ct+t^2,\n",
    "$$\n",
    "\n",
    "ahol $C$ tetszőleges valós szám. $\\blacksquare$\n",
    "</div>"
   ]
  },
  {
   "cell_type": "code",
   "execution_count": 1,
   "metadata": {
    "init_cell": true,
    "slideshow": {
     "slide_type": "slide"
    }
   },
   "outputs": [
    {
     "data": {
      "application/vnd.jupyter.widget-view+json": {
       "model_id": "09dad6509d7b4b01a906d0ebe427012b",
       "version_major": 2,
       "version_minor": 0
      },
      "text/plain": [
       "VBox(children=(FigureWidget({\n",
       "    'data': [{'line': {'color': 'red', 'width': 2},\n",
       "              'name': '$y(t)…"
      ]
     },
     "metadata": {},
     "output_type": "display_data"
    }
   ],
   "source": [
    "import plotly.figure_factory as ff\n",
    "import plotly.graph_objects as go\n",
    "import numpy as np\n",
    "import ipywidgets as widgets\n",
    "from ipywidgets import interactive, VBox, FloatSlider \n",
    "\n",
    "C = 1\n",
    "t = np.linspace(-2, 2, 40)\n",
    "y = C*t + t**2\n",
    "\n",
    "trace1 = go.Scatter(\n",
    "    line=dict(color='red', width=2),\n",
    "    x=t,\n",
    "    y=y,\n",
    "    name=r'$y(t)$')\n",
    "\n",
    "data = [trace1]\n",
    "\n",
    "layout = go.Layout(\n",
    "    xaxis = dict(\n",
    "        title = 't',\n",
    "        range=[-2,2]\n",
    "    ),\n",
    "    yaxis = dict(\n",
    "        title = '',\n",
    "        range = [-10,10],\n",
    "        scaleratio = 1\n",
    "    ),\n",
    "    title = dict(\n",
    "        text = r'$y(t)=C t+t^2$',\n",
    "        font = dict(\n",
    "            size = 20\n",
    "        ),\n",
    "        y = 0.85,\n",
    "        x = 0.5,\n",
    "        xanchor = 'center',\n",
    "        yanchor = 'top'\n",
    "    ),\n",
    "    showlegend=True\n",
    ")\n",
    "\n",
    "fig = go.FigureWidget(\n",
    "    data = data, layout = layout\n",
    ")\n",
    "\n",
    "###############\n",
    "def update_y(C):\n",
    "    fig.data[0].y = C*t + t**2\n",
    "\n",
    "style = {'description_width': 'initial'}\n",
    "slider_C =  FloatSlider(min=-2, max=2, step=0.1, value=1,\n",
    "                       style=style)\n",
    "slider_C.description = r'$C$'\n",
    "slider = interactive(update_y, C=slider_C)\n",
    "vb = VBox((fig, slider_C))\n",
    "vb.layout.align_items = 'center'\n",
    "vb"
   ]
  },
  {
   "cell_type": "code",
   "execution_count": 2,
   "metadata": {
    "hide_input": true,
    "init_cell": true,
    "slideshow": {
     "slide_type": "-"
    }
   },
   "outputs": [
    {
     "data": {
      "text/html": [
       "<script src=\"https://cdn.rawgit.com/parente/4c3e6936d0d7a46fd071/raw/65b816fb9bdd3c28b4ddf3af602bfd6015486383/code_toggle.js\"></script>\n"
      ],
      "text/plain": [
       "<IPython.core.display.HTML object>"
      ]
     },
     "metadata": {},
     "output_type": "display_data"
    }
   ],
   "source": [
    "%%html\n",
    "<script src=\"https://cdn.rawgit.com/parente/4c3e6936d0d7a46fd071/raw/65b816fb9bdd3c28b4ddf3af602bfd6015486383/code_toggle.js\"></script>"
   ]
  },
  {
   "cell_type": "code",
   "execution_count": 4,
   "metadata": {
    "init_cell": true,
    "slideshow": {
     "slide_type": "-"
    }
   },
   "outputs": [
    {
     "data": {
      "text/html": [
       "<style>\r\n",
       "div.h1 {\r\n",
       "    font-family: Arial, Helvetica, sans-serif;\r\n",
       "    font-size: 2em;\r\n",
       "    font-weight: bold;\r\n",
       "}\r\n",
       "\r\n",
       "p.author {\r\n",
       "    font-family: 'Times New Roman', Times, serif;\r\n",
       "    font-size: 1.2em;\r\n",
       "    text-align: justify;\r\n",
       "    line-height: normal;\r\n",
       "}\r\n",
       "\r\n",
       "p.date {\r\n",
       "    font-family: 'Times New Roman', Times, serif;\r\n",
       "    font-size: 1em;\r\n",
       "    text-align: justify;\r\n",
       "}\r\n",
       "\r\n",
       "p.abstract {\r\n",
       "    font-family: 'Times New Roman', Times, serif;\r\n",
       "    font-size: 1.5em;\r\n",
       "    text-align: left;\r\n",
       "    line-height: 1.4;\r\n",
       "}\r\n",
       "\r\n",
       "p.normal {\r\n",
       "    font-family: 'Times New Roman', Times, serif;\r\n",
       "    font-size: 1.3em;\r\n",
       "    text-align: justify;\r\n",
       "    line-height: 1.2;\r\n",
       "}\r\n",
       "\r\n",
       "p.normal-indent {\r\n",
       "    font-family: 'Times New Roman', Times, serif;\r\n",
       "    font-size: 1.3em;\r\n",
       "    text-align: justify;\r\n",
       "    line-height: 1.2;\r\n",
       "    text-indent: 0.5em;\r\n",
       "}\r\n",
       "\r\n",
       ".definition {\r\n",
       "    font-size: 1.1em;\r\n",
       "    text-align: left;\r\n",
       "    border-left-color: blue;\r\n",
       "    border-left-style: solid;\r\n",
       "    border-left-width: 0.3em;\r\n",
       "    padding-left: 0.6em;\r\n",
       "}\r\n",
       "\r\n",
       ".theorem {\r\n",
       "    font-size: 1.1em;\r\n",
       "    text-align: left;\r\n",
       "    border-left-color: rgb(255, 47, 0);\r\n",
       "    border-left-style: solid;\r\n",
       "    border-left-width: 0.3em;\r\n",
       "    padding-left: 0.6em;\r\n",
       "    font-style: italic;\r\n",
       "}\r\n",
       "\r\n",
       ".proof {\r\n",
       "    font-size: 1.1em;\r\n",
       "    text-align: left;\r\n",
       "    border-left-color: rgb(19, 114, 27);\r\n",
       "    border-left-style: solid;\r\n",
       "    border-left-width: 0.3em;\r\n",
       "    padding-left: 0.6em;\r\n",
       "}\r\n",
       "\r\n",
       ".exercise {\r\n",
       "    font-size: 1.1em;\r\n",
       "    text-align: left;\r\n",
       "    border-left-color: rgb(204,153,102);\r\n",
       "    border-left-style: solid;\r\n",
       "    border-left-width: 0.3em;\r\n",
       "    padding-left: 0.6em;\r\n",
       "}\r\n",
       "\r\n",
       ".exercise::before {\r\n",
       "    content: counter(exercise) \". Feladat. \";\r\n",
       "    counter-increment: exercise;\r\n",
       "    font-weight: bold;\r\n",
       "}\r\n",
       "\r\n",
       ".solution {\r\n",
       "    font-size: 1.1em;\r\n",
       "    text-align: left;\r\n",
       "    border-left-color: rgb(204,153,102);\r\n",
       "    border-left-style: solid;\r\n",
       "    border-left-width: 0.3em;\r\n",
       "    padding-left: 0.6em;\r\n",
       "}\r\n",
       "\r\n",
       ".solution::before {\r\n",
       "    content: \"Megoldás. \";\r\n",
       "    font-weight: bold;\r\n",
       "}\r\n",
       "\r\n",
       ".solution_no_word {\r\n",
       "    font-size: 1.1em;\r\n",
       "    text-align: left;\r\n",
       "    border-left-color: rgb(204,153,102);\r\n",
       "    border-left-style: solid;\r\n",
       "    border-left-width: 0.3em;\r\n",
       "    padding-left: 0.6em;\r\n",
       "}\r\n",
       "\r\n",
       ".remark {\r\n",
       "    font-size: 1.1em;\r\n",
       "    text-align: left;\r\n",
       "    border-left-color: rgb(255, 153, 153);\r\n",
       "    border-left-style: solid;\r\n",
       "    border-left-width: 0.3em;\r\n",
       "    padding-left: 0.6em;\r\n",
       "    font-style: italic;\r\n",
       "}\r\n",
       "\r\n",
       ".remark::before {\r\n",
       "    content: counter(remark) \". Megjegyzés. \";\r\n",
       "    counter-increment: remark;\r\n",
       "    font-weight: bold;\r\n",
       "\r\n",
       "}\r\n",
       "\r\n",
       ".prompt.output_prompt {\r\n",
       "    visibility: hidden;\r\n",
       "}\r\n",
       "</style>\r\n"
      ],
      "text/plain": [
       "<IPython.core.display.HTML object>"
      ]
     },
     "execution_count": 4,
     "metadata": {},
     "output_type": "execute_result"
    }
   ],
   "source": [
    "from IPython.core.display import HTML\n",
    "import urllib.request\n",
    "response = urllib.request.urlopen('https://raw.githubusercontent.com/wesszabo/Differential-Equations/master/CSS/hw.css')\n",
    "HTML(response.read().decode(\"utf-8\"))"
   ]
  }
 ],
 "metadata": {
  "celltoolbar": "Initialization Cell",
  "hide_input": true,
  "kernelspec": {
   "display_name": "Python 3",
   "language": "python",
   "name": "python3"
  },
  "language_info": {
   "codemirror_mode": {
    "name": "ipython",
    "version": 3
   },
   "file_extension": ".py",
   "mimetype": "text/x-python",
   "name": "python",
   "nbconvert_exporter": "python",
   "pygments_lexer": "ipython3",
   "version": "3.7.6"
  },
  "rise": {
   "autolaunch": true
  },
  "toc": {
   "base_numbering": 1,
   "nav_menu": {
    "height": "47px",
    "width": "177px"
   },
   "number_sections": true,
   "sideBar": true,
   "skip_h1_title": false,
   "title_cell": "2. gyakorlat II. 2. (a) feladat",
   "title_sidebar": "2. gyakorlat II. 2. (a) feladat",
   "toc_cell": true,
   "toc_position": {
    "height": "calc(100% - 180px)",
    "left": "10px",
    "top": "150px",
    "width": "165px"
   },
   "toc_section_display": true,
   "toc_window_display": false
  }
 },
 "nbformat": 4,
 "nbformat_minor": 4
}
