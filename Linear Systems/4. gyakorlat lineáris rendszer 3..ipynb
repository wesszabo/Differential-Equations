{
 "cells": [
  {
   "cell_type": "markdown",
   "metadata": {
    "slideshow": {
     "slide_type": "slide"
    },
    "toc": true
   },
   "source": [
    "<h1>4. gyakorlat lineáris rendszer 3.<span class=\"tocSkip\"></span></h1>\n",
    "<div class=\"toc\"><ul class=\"toc-item\"></ul></div>"
   ]
  },
  {
   "cell_type": "markdown",
   "metadata": {
    "slideshow": {
     "slide_type": "slide"
    }
   },
   "source": [
    "<div class='exercise'>\n",
    "Adjuk meg az általános megoldást\n",
    "\n",
    "\\begin{cases} \n",
    "\\begin{align}\n",
    "\\dot{x}_1 &=2x_1+x_2,  \\\\\n",
    "\\dot{x}_2 &=-x_1+2x_2. \n",
    "\\end{align}\n",
    "\\end{cases}\n",
    "    \n",
    "</div>"
   ]
  },
  {
   "cell_type": "markdown",
   "metadata": {
    "slideshow": {
     "slide_type": "slide"
    }
   },
   "source": [
    "<div class='solution'>\n",
    "Legyen $\\mathbf{x}=\\begin{bmatrix}\n",
    "x_1 \\\\ \n",
    "x_2 \n",
    "\\end{bmatrix}$.     \n",
    "Az együttható mátrix\n",
    "\n",
    "$$\n",
    "A=\\begin{bmatrix}\n",
    "2 & 1\\\\ \n",
    "-1 & 2\n",
    "\\end{bmatrix}.\n",
    "$$\n",
    "    \n",
    "Meg kell határoznunk $A$ sajátértékeit, sajátvektorait.\n",
    "</div>"
   ]
  },
  {
   "cell_type": "markdown",
   "metadata": {
    "slideshow": {
     "slide_type": "fragment"
    }
   },
   "source": [
    "<div class='solution_no_word'>\n",
    "A sajátértékeket a $\\det(A-\\lambda I)=0$ egyenletből kapjuk meg. Mivel\n",
    "\n",
    "$$\n",
    "\\det(A\\!\\!-\\!\\!\\lambda I)\\!=\\!\n",
    "\\begin{vmatrix}\n",
    "2\\!-\\!\\lambda & 1\\\\ \n",
    "-1 & 2\\!-\\!\\lambda\n",
    "\\end{vmatrix}\n",
    "\\!=\\!(2\\!-\\!\\lambda)^2\\!\\!+\\!\\!1,\n",
    "$$\n",
    "\n",
    "ezért $\\lambda_1=2+i$, $\\lambda_2=2-i$.\n",
    "</div>"
   ]
  },
  {
   "cell_type": "markdown",
   "metadata": {
    "slideshow": {
     "slide_type": "slide"
    }
   },
   "source": [
    "<div class='solution_no_word'>\n",
    "$\\lambda_1=2+i$.\n",
    "\n",
    "Az $\\mathbf{u}_1=\n",
    "\\begin{bmatrix}\n",
    "u_{11}\\\\\n",
    "u_{21}\n",
    "\\end{bmatrix}\n",
    "$ sajátvektort a \n",
    "\n",
    "$$\n",
    "\\begin{bmatrix}\n",
    "2-2-i& 1\\\\ \n",
    "-1 & 2-2-i\n",
    "\\end{bmatrix}\n",
    "\\begin{bmatrix}\n",
    "u_{11}\\\\\n",
    "u_{21}\n",
    "\\end{bmatrix}=\n",
    "\\begin{bmatrix}\n",
    "0\\\\\n",
    "0\n",
    "\\end{bmatrix}\n",
    "$$\n",
    "\n",
    "egyenletből kapjuk. Azaz, $-iu_{11}+u_{21}=0$.\n",
    "\n",
    "Legyen $u_{11}=1$, ekkor $u_{21}=i$. \n",
    "\n",
    "Tehát a $\\lambda_1=2+i$-hez tartozó sajátvektor $\\mathbf{u}_1=\n",
    "\\begin{bmatrix}\n",
    "1\\\\\n",
    "i\n",
    "\\end{bmatrix}$.\n",
    "</div>"
   ]
  },
  {
   "cell_type": "markdown",
   "metadata": {
    "slideshow": {
     "slide_type": "slide"
    }
   },
   "source": [
    "<div class='solution_no_word'>\n",
    "Az egyenlet összes megoldása\n",
    "\n",
    "\\begin{align}\n",
    "\\mathbf{x}(t) &=c_1 \\mathrm{Re}\\!\\left\\{\\mathbf{u}_1 e^{\\lambda_1 t}\n",
    "\\right\\} \n",
    "\\!+\\!\n",
    "c_2 \\mathrm{Im}\\!\\left\\{\\mathbf{u}_1 e^{\\lambda_1 t}\n",
    "\\right\\} \\\\[5px]\n",
    "& = c_1 e^{2t} \\mathrm{Re}\\!\\left\\{ \n",
    "\\begin{bmatrix}\n",
    "1\\\\\n",
    "i\n",
    "\\end{bmatrix}\n",
    "\\left(\\cos(t)\\!+\\!i\\sin(t)\\right)\n",
    "\\right\\}\\\\[5px]\n",
    "&+\n",
    "c_2 e^{2t} \\mathrm{Im}\\!\\left\\{\n",
    "\\begin{bmatrix}\n",
    "1\\\\\n",
    "i\n",
    "\\end{bmatrix}\n",
    "\\left(\\cos(t)\\!+\\!i\\sin(t)\\right)\n",
    "\\right\\}\\\\[5px]\n",
    "&=c_1 e^{2t}\n",
    "\\begin{bmatrix}\n",
    "\\cos(t)\\\\\n",
    "-\\sin(t)\n",
    "\\end{bmatrix}\n",
    "\\!+\\!\n",
    "c_2 e^{2t}\n",
    "\\begin{bmatrix}\n",
    "\\sin(t)\\\\\n",
    "\\cos(t)\n",
    "\\end{bmatrix},\n",
    "\\end{align}\n",
    "\n",
    "ahol $c_1,c_2\\in\\mathbf{R}$ tetszőleges.\n",
    "</div>"
   ]
  },
  {
   "cell_type": "markdown",
   "metadata": {
    "slideshow": {
     "slide_type": "slide"
    }
   },
   "source": [
    "<div class='solution_no_word'>\n",
    "Tehát  \n",
    "\n",
    "\\begin{align}\n",
    "x_1(t) &=e^{2t}\\left(c_1\\cos(t)+c_2\\sin(t) \\right),\\\\[3px]\n",
    "x_2(t) &=e^{2t}\\left(-c_1\\sin(t)+c_2\\cos(t) \\right),\n",
    "\\end{align}\n",
    "\n",
    "ahol $c_1,c_2\\in\\mathbf{R}$ tetszőleges. $\\blacksquare$\n",
    "</div>"
   ]
  },
  {
   "cell_type": "code",
   "execution_count": 17,
   "metadata": {
    "hide_input": false,
    "scrolled": true,
    "slideshow": {
     "slide_type": "-"
    }
   },
   "outputs": [
    {
     "data": {
      "text/html": [
       "<script src=\"https://cdn.rawgit.com/parente/4c3e6936d0d7a46fd071/raw/65b816fb9bdd3c28b4ddf3af602bfd6015486383/code_toggle.js\"></script>\n"
      ],
      "text/plain": [
       "<IPython.core.display.HTML object>"
      ]
     },
     "metadata": {},
     "output_type": "display_data"
    }
   ],
   "source": [
    "%%html\n",
    "<script src=\"https://cdn.rawgit.com/parente/4c3e6936d0d7a46fd071/raw/65b816fb9bdd3c28b4ddf3af602bfd6015486383/code_toggle.js\"></script>"
   ]
  },
  {
   "cell_type": "code",
   "execution_count": 1,
   "metadata": {
    "hide_input": true,
    "slideshow": {
     "slide_type": "-"
    }
   },
   "outputs": [
    {
     "data": {
      "text/html": [
       "<style>div.h1 {\n",
       "    font-family: Arial, Helvetica, sans-serif;\n",
       "    font-size: 2em;\n",
       "    font-weight: bold;\n",
       "}\n",
       "\n",
       "p.author {\n",
       "    font-family: 'Times New Roman', Times, serif;\n",
       "    font-size: 1.2em;\n",
       "    text-align: justify;\n",
       "    line-height: normal;\n",
       "}\n",
       "\n",
       "p.date {\n",
       "    font-family: 'Times New Roman', Times, serif;\n",
       "    font-size: 1em;\n",
       "    text-align: justify;\n",
       "}\n",
       "\n",
       "p.abstract {\n",
       "    font-family: 'Times New Roman', Times, serif;\n",
       "    font-size: 1.5em;\n",
       "    text-align: left;\n",
       "    line-height: 1.4;\n",
       "}\n",
       "\n",
       "p.normal {\n",
       "    font-family: 'Times New Roman', Times, serif;\n",
       "    font-size: 1.3em;\n",
       "    text-align: justify;\n",
       "    line-height: 1.2;\n",
       "}\n",
       "\n",
       "p.normal-indent {\n",
       "    font-family: 'Times New Roman', Times, serif;\n",
       "    font-size: 1.3em;\n",
       "    text-align: justify;\n",
       "    line-height: 1.2;\n",
       "    text-indent: 0.5em;\n",
       "}\n",
       "\n",
       ".definition {\n",
       "    font-size: 1.1em;\n",
       "    text-align: left;\n",
       "    border-left-color: blue;\n",
       "    border-left-style: solid;\n",
       "    border-left-width: 0.3em;\n",
       "    padding-left: 0.6em;\n",
       "}\n",
       "\n",
       ".theorem {\n",
       "    font-size: 1.1em;\n",
       "    text-align: left;\n",
       "    border-left-color: rgb(255, 47, 0);\n",
       "    border-left-style: solid;\n",
       "    border-left-width: 0.3em;\n",
       "    padding-left: 0.6em;\n",
       "    font-style: italic;\n",
       "}\n",
       "\n",
       ".proof {\n",
       "    font-size: 1.1em;\n",
       "    text-align: left;\n",
       "    border-left-color: rgb(19, 114, 27);\n",
       "    border-left-style: solid;\n",
       "    border-left-width: 0.3em;\n",
       "    padding-left: 0.6em;\n",
       "}\n",
       "\n",
       ".exercise {\n",
       "    font-size: 1.1em;\n",
       "    text-align: left;\n",
       "    border-left-color: rgb(204,153,102);\n",
       "    border-left-style: solid;\n",
       "    border-left-width: 0.3em;\n",
       "    padding-left: 0.6em;\n",
       "}\n",
       "\n",
       ".exercise::before {\n",
       "    content: counter(exercise) \". Feladat. \";\n",
       "    counter-increment: exercise;\n",
       "    font-weight: bold;\n",
       "}\n",
       "\n",
       ".solution {\n",
       "    font-size: 1.1em;\n",
       "    text-align: left;\n",
       "    border-left-color: rgb(204,153,102);\n",
       "    border-left-style: solid;\n",
       "    border-left-width: 0.3em;\n",
       "    padding-left: 0.6em;\n",
       "}\n",
       "\n",
       ".solution::before {\n",
       "    content: \"Megoldás. \";\n",
       "    font-weight: bold;\n",
       "}\n",
       "\n",
       ".solution_no_word {\n",
       "    font-size: 1.1em;\n",
       "    text-align: left;\n",
       "    border-left-color: rgb(204,153,102);\n",
       "    border-left-style: solid;\n",
       "    border-left-width: 0.3em;\n",
       "    padding-left: 0.6em;\n",
       "}\n",
       "\n",
       "\n",
       ".prompt.output_prompt {\n",
       "    visibility: hidden;\n",
       "}</style>"
      ],
      "text/plain": [
       "<IPython.core.display.HTML object>"
      ]
     },
     "execution_count": 1,
     "metadata": {},
     "output_type": "execute_result"
    }
   ],
   "source": [
    "from IPython.display import HTML\n",
    "def css_styling():\n",
    "    styles = open(\"../CSS/hw.css\", \"r\").read()\n",
    "    return HTML(\"<style>\"+styles+\"</style>\")\n",
    "css_styling()"
   ]
  }
 ],
 "metadata": {
  "celltoolbar": "Slideshow",
  "hide_input": true,
  "kernelspec": {
   "display_name": "Python 3",
   "language": "python",
   "name": "python3"
  },
  "language_info": {
   "codemirror_mode": {
    "name": "ipython",
    "version": 3
   },
   "file_extension": ".py",
   "mimetype": "text/x-python",
   "name": "python",
   "nbconvert_exporter": "python",
   "pygments_lexer": "ipython3",
   "version": "3.7.6"
  },
  "latex_envs": {
   "LaTeX_envs_menu_present": true,
   "autoclose": true,
   "autocomplete": true,
   "bibliofile": "biblio.bib",
   "cite_by": "apalike",
   "current_citInitial": 1,
   "eqLabelWithNumbers": true,
   "eqNumInitial": 1,
   "hotkeys": {
    "equation": "Ctrl-E",
    "itemize": "Ctrl-I"
   },
   "labels_anchors": true,
   "latex_user_defs": true,
   "report_style_numbering": false,
   "user_envs_cfg": true
  },
  "rise": {
   "enable_chalkboard": true
  },
  "toc": {
   "base_numbering": 1,
   "nav_menu": {
    "height": "47px",
    "width": "177px"
   },
   "number_sections": true,
   "sideBar": true,
   "skip_h1_title": false,
   "title_cell": "4. gyakorlat lineáris rendszer 3.",
   "title_sidebar": "4. gyakorlat lineáris rendszer 3.",
   "toc_cell": true,
   "toc_position": {
    "height": "calc(100% - 180px)",
    "left": "10px",
    "top": "150px",
    "width": "165px"
   },
   "toc_section_display": true,
   "toc_window_display": false
  }
 },
 "nbformat": 4,
 "nbformat_minor": 4
}
