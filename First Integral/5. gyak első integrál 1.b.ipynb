{
 "cells": [
  {
   "cell_type": "markdown",
   "metadata": {
    "slideshow": {
     "slide_type": "slide"
    },
    "toc": true
   },
   "source": [
    "<h1>5. gyakorlat első integrál 1.b<span class=\"tocSkip\"></span></h1>\n",
    "<div class=\"toc\"><ul class=\"toc-item\"></ul></div>"
   ]
  },
  {
   "cell_type": "markdown",
   "metadata": {
    "slideshow": {
     "slide_type": "slide"
    }
   },
   "source": [
    "<div class='exercise'>\n",
    "Keressünk első integrált és ábrázoljuk a fázisképet az $x,y$ síkon.\n",
    "    \n",
    "\\begin{cases} \n",
    "\\begin{align}\n",
    "\\dot{x} &=1, \\\\[3pt]\n",
    "\\dot{y} &=\\sin(x). \n",
    "\\end{align}\n",
    "\\end{cases}\n",
    "</div>"
   ]
  },
  {
   "cell_type": "markdown",
   "metadata": {
    "slideshow": {
     "slide_type": "slide"
    }
   },
   "source": [
    "<div class='solution'>\n",
    "Az egyensúlyi  pontokat az $(\\dot{x},\\dot{y})=(0,0)$ egyenletből határozhatjuk meg. \n",
    "    \n",
    "Mivel $\\dot{x}=1$, ezért nincs egyensúlyi pont.\n",
    "       \n",
    "</div>"
   ]
  },
  {
   "cell_type": "markdown",
   "metadata": {
    "hide_input": true,
    "slideshow": {
     "slide_type": "slide"
    }
   },
   "source": [
    "<div class='solution_no_word'>\n",
    "A további megoldásokhoz válasszuk szét a változókat.\n",
    "\n",
    "\\begin{cases} \n",
    "\\begin{align}\n",
    "1\\,dx &=1\\,dt \\\\[4pt]\n",
    "\\frac{1}{\\sin(x)}\\,dy &=1\\,dt. \n",
    "\\end{align}\n",
    "\\end{cases}\n",
    "\n",
    "A jobb oldalak egyenlőségéből következik, hogy \n",
    "\n",
    "$$\n",
    "1\\,dx = \\frac{1}{\\sin(x)}\\,dy,\n",
    "$$\n",
    "\n",
    "azaz,\n",
    "\n",
    "$$\n",
    "\\sin(x)\\,dx +(-1)\\,dy=0.\n",
    "$$\n",
    "</div>"
   ]
  },
  {
   "cell_type": "markdown",
   "metadata": {
    "slideshow": {
     "slide_type": "slide"
    }
   },
   "source": [
    "<div class='solution_no_word'>\n",
    "Mivel $\\sin(x)'_y=0=(-1)'_x$, ezért az egyenlet egzakt. \n",
    "\n",
    "Tehát létezik olyan $F(x,y)$, hogy \n",
    "\n",
    "\\begin{cases} \n",
    "\\begin{align}\n",
    "F'_x(x,y) &=\\sin(x), \\\\[3pt]\n",
    "F'_y(x,y) &=-1. \n",
    "\\end{align}\n",
    "\\end{cases}\n",
    "\n",
    "Az első egyenletből következik, hogy \n",
    "\n",
    "$$\n",
    "F(x,y)=-\\cos(x)+C(y).\n",
    "$$\n",
    "</div>"
   ]
  },
  {
   "cell_type": "markdown",
   "metadata": {
    "slideshow": {
     "slide_type": "slide"
    }
   },
   "source": [
    "<div class='solution_no_word'>\n",
    "A második egyenletbe helyettesítve kapjuk, hogy\n",
    "\n",
    "$$\n",
    "-1=F'_y(x,y)=C'(y).\n",
    "$$\n",
    "\n",
    "Ebből $C(y)=-y$. Ezért $F(x,y)=-\\cos(x)-y$. Tehát az első integrál \n",
    "\n",
    "$$\n",
    "\\cos(x)+y=C,\n",
    "$$\n",
    "\n",
    "ahol $C$ tetszőleges konstans.\n",
    "</div>"
   ]
  },
  {
   "cell_type": "code",
   "execution_count": 1,
   "metadata": {
    "init_cell": true,
    "slideshow": {
     "slide_type": "slide"
    }
   },
   "outputs": [
    {
     "data": {
      "application/vnd.jupyter.widget-view+json": {
       "model_id": "960e6d72710c42f8b0ffcfc626fdc05d",
       "version_major": 2,
       "version_minor": 0
      },
      "text/plain": [
       "VBox(children=(FigureWidget({\n",
       "    'data': [{'contours': {'coloring': 'none', 'end': 0, 'size': 2, 'start': 0},…"
      ]
     },
     "metadata": {},
     "output_type": "display_data"
    }
   ],
   "source": [
    "import plotly.figure_factory as ff\n",
    "import plotly.graph_objects as go\n",
    "import numpy as np\n",
    "import ipywidgets as widgets\n",
    "from ipywidgets import interactive, VBox, FloatSlider \n",
    "\n",
    "x,y = np.meshgrid(np.arange(-5.5, 5.5, .4), np.arange(-4.5, 4.5, .4))\n",
    "u = x**0\n",
    "v = np.sin(x)\n",
    "\n",
    "angle = np.arctan(v / u)\n",
    "row, col = angle.shape\n",
    "for r in range(row):\n",
    "    for c in range(col):\n",
    "        if u[r][c] < 0:\n",
    "            angle[r][c] = angle[r][c] + np.pi\n",
    "\n",
    "norm = 0.30\n",
    "u = norm * np.cos(angle)\n",
    "v = norm * np.sin(angle)\n",
    "\n",
    "quiver = ff.create_quiver(x, y, u, v, scale = 1)\n",
    "\n",
    "x0 = 1\n",
    "y0 = 2\n",
    "C = np.cos(x0) + y0\n",
    "\n",
    "# Add contour to figure\n",
    "delta = 0.1\n",
    "xrange = np.arange(-5.5, 5.5, delta)\n",
    "yrange = np.arange(-4.5, 4.5, delta)\n",
    "X, Y = np.meshgrid(xrange,yrange)\n",
    "F = np.cos(X)\n",
    "G = C-Y\n",
    "\n",
    "trace0 = go.Contour(\n",
    "        z = F-G,\n",
    "        x = xrange,\n",
    "        y = yrange,\n",
    "        contours_coloring='none',\n",
    "        line_width = 2,\n",
    "        line_color = 'rgb(228,13,13)',\n",
    "        contours=dict(\n",
    "            start=0,\n",
    "            end=0,\n",
    "            size=2\n",
    "        ),\n",
    "        name = 'first integral'\n",
    "    )\n",
    "\n",
    "# Add quiver to figure\n",
    "trace1 = go.Scatter(\n",
    "    line=dict(color='blue', width=2),\n",
    "    x=quiver.data[0].x,\n",
    "    y=quiver.data[0].y,\n",
    "    name=r'direction')\n",
    "\n",
    "# Add point to figure\n",
    "trace2 = go.Scatter(\n",
    "    x=[x0], y=[y0],\n",
    "    mode = 'markers',\n",
    "    marker_size = 8,\n",
    "    marker_color = 'rgb(228,13,13)',\n",
    "    name = 'point')\n",
    "\n",
    "data = [trace0, trace1, trace2]\n",
    "\n",
    "layout = go.Layout(\n",
    "    xaxis = dict(\n",
    "        title = r'$x$',\n",
    "        range=[-5.5, 5.5]\n",
    "    ),\n",
    "    yaxis = dict(\n",
    "        title = r'$y$',\n",
    "        range = [-4.5, 4.5],\n",
    "        scaleratio = 1\n",
    "    ),\n",
    "    title = dict(\n",
    "        text = r'$\\dot{x}=1,\\,\\dot{y}=\\sin(x)\\quad \\text{fázisképe},\\quad \\cos(x)+y=C$',\n",
    "        font = dict(\n",
    "            size = 20\n",
    "        ),\n",
    "        y = 0.85,\n",
    "        x = 0.35,\n",
    "        xanchor = 'center',\n",
    "        yanchor = 'top'\n",
    "    )\n",
    ")\n",
    "\n",
    "fig = go.FigureWidget(\n",
    "    data = data, layout = layout\n",
    ")\n",
    "###############\n",
    "    \n",
    "def update(x0, y0):\n",
    "    fig.data[2].x = [x0]\n",
    "    fig.data[2].y = [y0]\n",
    "    C = np.cos(x0) + y0\n",
    "    F = np.cos(X)\n",
    "    G = C-Y\n",
    "    fig.data[0].z = F - G\n",
    "    print('C: ', str(\"%0.2f\" % C))\n",
    "    \n",
    "style = {'description_width': 'initial'}\n",
    "\n",
    "slider_x0 =  FloatSlider(min=-3, max=3, step=0.1, value=1,\n",
    "                       style=style)\n",
    "slider_x0.description = r'$x_0$'\n",
    "\n",
    "slider_y0 =  FloatSlider(min=-3, max=3, step=0.1, value=2,\n",
    "                       style=style)\n",
    "slider_y0.description = r'$y_0$'\n",
    "\n",
    "slider = interactive(update, x0=slider_x0, y0=slider_y0)\n",
    "\n",
    "vb = VBox((fig, slider))\n",
    "vb.layout.align_items = 'center'\n",
    "vb"
   ]
  },
  {
   "cell_type": "code",
   "execution_count": 2,
   "metadata": {
    "init_cell": true,
    "slideshow": {
     "slide_type": "-"
    }
   },
   "outputs": [
    {
     "data": {
      "text/html": [
       "<script src=\"https://cdn.rawgit.com/parente/4c3e6936d0d7a46fd071/raw/65b816fb9bdd3c28b4ddf3af602bfd6015486383/code_toggle.js\"></script>\n"
      ],
      "text/plain": [
       "<IPython.core.display.HTML object>"
      ]
     },
     "metadata": {},
     "output_type": "display_data"
    }
   ],
   "source": [
    "%%html\n",
    "<script src=\"https://cdn.rawgit.com/parente/4c3e6936d0d7a46fd071/raw/65b816fb9bdd3c28b4ddf3af602bfd6015486383/code_toggle.js\"></script>"
   ]
  },
  {
   "cell_type": "code",
   "execution_count": 3,
   "metadata": {
    "init_cell": true,
    "slideshow": {
     "slide_type": "-"
    }
   },
   "outputs": [
    {
     "data": {
      "text/html": [
       "<style>\r\n",
       "div.h1 {\r\n",
       "    font-family: Arial, Helvetica, sans-serif;\r\n",
       "    font-size: 2em;\r\n",
       "    font-weight: bold;\r\n",
       "}\r\n",
       "\r\n",
       "p.author {\r\n",
       "    font-family: 'Times New Roman', Times, serif;\r\n",
       "    font-size: 1.2em;\r\n",
       "    text-align: justify;\r\n",
       "    line-height: normal;\r\n",
       "}\r\n",
       "\r\n",
       "p.date {\r\n",
       "    font-family: 'Times New Roman', Times, serif;\r\n",
       "    font-size: 1em;\r\n",
       "    text-align: justify;\r\n",
       "}\r\n",
       "\r\n",
       "p.abstract {\r\n",
       "    font-family: 'Times New Roman', Times, serif;\r\n",
       "    font-size: 1.5em;\r\n",
       "    text-align: left;\r\n",
       "    line-height: 1.4;\r\n",
       "}\r\n",
       "\r\n",
       "p.normal {\r\n",
       "    font-family: 'Times New Roman', Times, serif;\r\n",
       "    font-size: 1.3em;\r\n",
       "    text-align: justify;\r\n",
       "    line-height: 1.2;\r\n",
       "}\r\n",
       "\r\n",
       "p.normal-indent {\r\n",
       "    font-family: 'Times New Roman', Times, serif;\r\n",
       "    font-size: 1.3em;\r\n",
       "    text-align: justify;\r\n",
       "    line-height: 1.2;\r\n",
       "    text-indent: 0.5em;\r\n",
       "}\r\n",
       "\r\n",
       ".definition {\r\n",
       "    font-size: 1.1em;\r\n",
       "    text-align: left;\r\n",
       "    border-left-color: blue;\r\n",
       "    border-left-style: solid;\r\n",
       "    border-left-width: 0.3em;\r\n",
       "    padding-left: 0.6em;\r\n",
       "}\r\n",
       "\r\n",
       ".theorem {\r\n",
       "    font-size: 1.1em;\r\n",
       "    text-align: left;\r\n",
       "    border-left-color: rgb(255, 47, 0);\r\n",
       "    border-left-style: solid;\r\n",
       "    border-left-width: 0.3em;\r\n",
       "    padding-left: 0.6em;\r\n",
       "    font-style: italic;\r\n",
       "}\r\n",
       "\r\n",
       ".proof {\r\n",
       "    font-size: 1.1em;\r\n",
       "    text-align: left;\r\n",
       "    border-left-color: rgb(19, 114, 27);\r\n",
       "    border-left-style: solid;\r\n",
       "    border-left-width: 0.3em;\r\n",
       "    padding-left: 0.6em;\r\n",
       "}\r\n",
       "\r\n",
       ".exercise {\r\n",
       "    font-size: 1.1em;\r\n",
       "    text-align: left;\r\n",
       "    border-left-color: rgb(204,153,102);\r\n",
       "    border-left-style: solid;\r\n",
       "    border-left-width: 0.3em;\r\n",
       "    padding-left: 0.6em;\r\n",
       "}\r\n",
       "\r\n",
       ".exercise::before {\r\n",
       "    content: counter(exercise) \". Feladat. \";\r\n",
       "    counter-increment: exercise;\r\n",
       "    font-weight: bold;\r\n",
       "}\r\n",
       "\r\n",
       ".solution {\r\n",
       "    font-size: 1.1em;\r\n",
       "    text-align: left;\r\n",
       "    border-left-color: rgb(204,153,102);\r\n",
       "    border-left-style: solid;\r\n",
       "    border-left-width: 0.3em;\r\n",
       "    padding-left: 0.6em;\r\n",
       "}\r\n",
       "\r\n",
       ".solution::before {\r\n",
       "    content: \"Megoldás. \";\r\n",
       "    font-weight: bold;\r\n",
       "}\r\n",
       "\r\n",
       ".solution_no_word {\r\n",
       "    font-size: 1.1em;\r\n",
       "    text-align: left;\r\n",
       "    border-left-color: rgb(204,153,102);\r\n",
       "    border-left-style: solid;\r\n",
       "    border-left-width: 0.3em;\r\n",
       "    padding-left: 0.6em;\r\n",
       "}\r\n",
       "\r\n",
       ".remark {\r\n",
       "    font-size: 1.1em;\r\n",
       "    text-align: left;\r\n",
       "    border-left-color: rgb(255, 153, 153);\r\n",
       "    border-left-style: solid;\r\n",
       "    border-left-width: 0.3em;\r\n",
       "    padding-left: 0.6em;\r\n",
       "    font-style: italic;\r\n",
       "}\r\n",
       "\r\n",
       ".remark::before {\r\n",
       "    content: counter(remark) \". Megjegyzés. \";\r\n",
       "    counter-increment: remark;\r\n",
       "    font-weight: bold;\r\n",
       "\r\n",
       "}\r\n",
       "\r\n",
       ".prompt.output_prompt {\r\n",
       "    visibility: hidden;\r\n",
       "}\r\n",
       "</style>\r\n"
      ],
      "text/plain": [
       "<IPython.core.display.HTML object>"
      ]
     },
     "execution_count": 3,
     "metadata": {},
     "output_type": "execute_result"
    }
   ],
   "source": [
    "from IPython.core.display import HTML\n",
    "import urllib.request\n",
    "response = urllib.request.urlopen('https://raw.githubusercontent.com/wesszabo/Differential-Equations/master/CSS/hw.css')\n",
    "HTML(response.read().decode(\"utf-8\"))"
   ]
  }
 ],
 "metadata": {
  "celltoolbar": "Initialization Cell",
  "hide_input": true,
  "kernelspec": {
   "display_name": "Python 3",
   "language": "python",
   "name": "python3"
  },
  "language_info": {
   "codemirror_mode": {
    "name": "ipython",
    "version": 3
   },
   "file_extension": ".py",
   "mimetype": "text/x-python",
   "name": "python",
   "nbconvert_exporter": "python",
   "pygments_lexer": "ipython3",
   "version": "3.7.6"
  },
  "rise": {
   "autolaunch": true
  },
  "toc": {
   "base_numbering": 1,
   "nav_menu": {
    "height": "47px",
    "width": "177px"
   },
   "number_sections": true,
   "sideBar": true,
   "skip_h1_title": false,
   "title_cell": "5. gyakorlat első integrál 1.b",
   "title_sidebar": "5. gyakorlat első integrál 1.b",
   "toc_cell": true,
   "toc_position": {
    "height": "calc(100% - 180px)",
    "left": "10px",
    "top": "150px",
    "width": "165px"
   },
   "toc_section_display": true,
   "toc_window_display": false
  }
 },
 "nbformat": 4,
 "nbformat_minor": 4
}
