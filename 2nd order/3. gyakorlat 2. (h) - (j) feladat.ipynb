{
 "cells": [
  {
   "cell_type": "markdown",
   "metadata": {
    "slideshow": {
     "slide_type": "slide"
    },
    "toc": true
   },
   "source": [
    "<h1>3. gyakorlat 2. (h) - (j) feladat<span class=\"tocSkip\"></span></h1>\n",
    "<div class=\"toc\"><ul class=\"toc-item\"></ul></div>"
   ]
  },
  {
   "cell_type": "markdown",
   "metadata": {
    "slideshow": {
     "slide_type": "slide"
    }
   },
   "source": [
    "<div class='exercise'>\n",
    "Keressük meg az\n",
    "\n",
    "\\begin{equation}\\label{eq:origin}\n",
    "y''(t)+3y'(t)+2y(t)=F(t)\n",
    "\\end{equation}\n",
    "\n",
    "egyenlet egy partikuláris megoldását, ha\n",
    "\n",
    "(h)  $F(t)=e^{-t}\\sin(2t)$, \n",
    "     \n",
    "(i)  $F(t)=e^{2t}-\\cos(t)$, \n",
    "     \n",
    "(j)  $F(t)=4+e^{-t}$.\n",
    "</div>"
   ]
  },
  {
   "cell_type": "markdown",
   "metadata": {
    "slideshow": {
     "slide_type": "slide"
    }
   },
   "source": [
    "<div class='solution'>\n",
    "\n",
    "(h) $y_p(t)=e^{-t}(A\\sin(2t)+B\\cos(2t))$ alakban keressük.\n",
    "    \n",
    " (Amennyiben ez megoldása lenne a homogén egyenletnek, akkor a $t$-szeresével \n",
    " próbálkozunk, ha az is megoldása lenne a homogén egyenletnek, akkor a $t^2$\n",
    " -szeresével próbálkozunk.)\n",
    "</div>"
   ]
  },
  {
   "cell_type": "markdown",
   "metadata": {
    "slideshow": {
     "slide_type": "slide"
    }
   },
   "source": [
    "<div class='solution_no_word'>\n",
    "(i) Keressük a megoldást \n",
    " \n",
    "$$\n",
    "y_p:=y_1+y_2\n",
    "$$\n",
    "\n",
    "alakban, ahol $y_1$ az \n",
    "\n",
    "$$\n",
    "y''(t)+3y'(t)+2y(t)=e^{2t},\n",
    "$$\n",
    "\n",
    "$y_2$ az \n",
    "\n",
    "$$\n",
    "y''(t)+3y'(t)+2y(t)=-\\cos(t)\n",
    "$$\n",
    "\n",
    "egyenlet egy partikuláris megoldása. \n",
    "</div>"
   ]
  },
  {
   "cell_type": "markdown",
   "metadata": {
    "slideshow": {
     "slide_type": "slide"
    }
   },
   "source": [
    "<div class='solution_no_word'>\n",
    "Ekkor a linearitás miatt $y_1+y_2$ az eredeti \n",
    "(inhomogén) egyenlet egy megoldása lesz. Figyelembe véve a homogén egyenlet \n",
    "megoldásait, nincs külső rezonancia, ezért\n",
    "\n",
    "$$\n",
    "y_1(t)=Ae^{2t},\n",
    "$$\n",
    "\n",
    "$$\n",
    "y_2(t)=B\\sin(t)+C\\cos(t)\n",
    "$$\n",
    "\n",
    "alakokban keressük a partikuláris megoldásokat.\n",
    "</div>"
   ]
  },
  {
   "cell_type": "markdown",
   "metadata": {
    "slideshow": {
     "slide_type": "slide"
    }
   },
   "source": [
    "<div class='solution_no_word'>\n",
    "(j) Keressük a megoldást \n",
    " \n",
    "$$\n",
    "y_p:=y_1+y_2\n",
    "$$\n",
    "\n",
    "alakban, ahol $y_1$ az \n",
    "\n",
    "$$\n",
    "y''(t)+3y'(t)+2y(t)=4,\n",
    "$$\n",
    "\n",
    "$y_2$ az \n",
    "\n",
    "$$\n",
    "y''(t)+3y'(t)+2y(t)=e^{-t}\n",
    "$$\n",
    "\n",
    "egyenlet egy partikuláris megoldása. \n",
    "</div>"
   ]
  },
  {
   "cell_type": "markdown",
   "metadata": {
    "slideshow": {
     "slide_type": "slide"
    }
   },
   "source": [
    "<div class='solution_no_word'>\n",
    "Ekkor a linearitás miatt $y_1+y_2$ az eredeti \n",
    "(inhomogén) egyenlet egy megoldása lesz. Ezért $y_1(t)$-t \n",
    "\n",
    "$$\n",
    "y_1(t)=A\n",
    "$$\n",
    "\n",
    "alakban keressük.\n",
    "\n",
    "Mivel $e^{-t}$ a homogén egyenlet megoldása, ezért külső rezonancia van. \n",
    "Ezért $y_2(t)$-t\n",
    "\n",
    "$$\n",
    "y_2(t)=Ate^{-t}\n",
    "$$\n",
    "\n",
    "alakban keressük. $\\quad\\blacksquare$\n",
    "</div>"
   ]
  },
  {
   "cell_type": "code",
   "execution_count": 1,
   "metadata": {
    "init_cell": true,
    "slideshow": {
     "slide_type": "-"
    }
   },
   "outputs": [
    {
     "data": {
      "text/html": [
       "<script src=\"https://cdn.rawgit.com/parente/4c3e6936d0d7a46fd071/raw/65b816fb9bdd3c28b4ddf3af602bfd6015486383/code_toggle.js\"></script>\n"
      ],
      "text/plain": [
       "<IPython.core.display.HTML object>"
      ]
     },
     "metadata": {},
     "output_type": "display_data"
    }
   ],
   "source": [
    "%%html\n",
    "<script src=\"https://cdn.rawgit.com/parente/4c3e6936d0d7a46fd071/raw/65b816fb9bdd3c28b4ddf3af602bfd6015486383/code_toggle.js\"></script>"
   ]
  },
  {
   "cell_type": "code",
   "execution_count": 2,
   "metadata": {
    "init_cell": true,
    "slideshow": {
     "slide_type": "-"
    }
   },
   "outputs": [
    {
     "data": {
      "text/html": [
       "<style>div.h1 {\n",
       "    font-family: Arial, Helvetica, sans-serif;\n",
       "    font-size: 2em;\n",
       "    font-weight: bold;\n",
       "}\n",
       "\n",
       "p.author {\n",
       "    font-family: 'Times New Roman', Times, serif;\n",
       "    font-size: 1.2em;\n",
       "    text-align: justify;\n",
       "    line-height: normal;\n",
       "}\n",
       "\n",
       "p.date {\n",
       "    font-family: 'Times New Roman', Times, serif;\n",
       "    font-size: 1em;\n",
       "    text-align: justify;\n",
       "}\n",
       "\n",
       "p.abstract {\n",
       "    font-family: 'Times New Roman', Times, serif;\n",
       "    font-size: 1.5em;\n",
       "    text-align: left;\n",
       "    line-height: 1.4;\n",
       "}\n",
       "\n",
       "p.normal {\n",
       "    font-family: 'Times New Roman', Times, serif;\n",
       "    font-size: 1.3em;\n",
       "    text-align: justify;\n",
       "    line-height: 1.2;\n",
       "}\n",
       "\n",
       "p.normal-indent {\n",
       "    font-family: 'Times New Roman', Times, serif;\n",
       "    font-size: 1.3em;\n",
       "    text-align: justify;\n",
       "    line-height: 1.2;\n",
       "    text-indent: 0.5em;\n",
       "}\n",
       "\n",
       ".definition {\n",
       "    font-size: 1.1em;\n",
       "    text-align: left;\n",
       "    border-left-color: blue;\n",
       "    border-left-style: solid;\n",
       "    border-left-width: 0.3em;\n",
       "    padding-left: 0.6em;\n",
       "}\n",
       "\n",
       ".theorem {\n",
       "    font-size: 1.1em;\n",
       "    text-align: left;\n",
       "    border-left-color: rgb(255, 47, 0);\n",
       "    border-left-style: solid;\n",
       "    border-left-width: 0.3em;\n",
       "    padding-left: 0.6em;\n",
       "    font-style: italic;\n",
       "}\n",
       "\n",
       ".proof {\n",
       "    font-size: 1.1em;\n",
       "    text-align: left;\n",
       "    border-left-color: rgb(19, 114, 27);\n",
       "    border-left-style: solid;\n",
       "    border-left-width: 0.3em;\n",
       "    padding-left: 0.6em;\n",
       "}\n",
       "\n",
       ".exercise {\n",
       "    font-size: 1.1em;\n",
       "    text-align: left;\n",
       "    border-left-color: rgb(204,153,102);\n",
       "    border-left-style: solid;\n",
       "    border-left-width: 0.3em;\n",
       "    padding-left: 0.6em;\n",
       "}\n",
       "\n",
       ".exercise::before {\n",
       "    content: counter(exercise) \". Feladat. \";\n",
       "    counter-increment: exercise;\n",
       "    font-weight: bold;\n",
       "}\n",
       "\n",
       ".solution {\n",
       "    font-size: 1.1em;\n",
       "    text-align: left;\n",
       "    border-left-color: rgb(204,153,102);\n",
       "    border-left-style: solid;\n",
       "    border-left-width: 0.3em;\n",
       "    padding-left: 0.6em;\n",
       "}\n",
       "\n",
       ".solution::before {\n",
       "    content: \"Megoldás. \";\n",
       "    font-weight: bold;\n",
       "}\n",
       "\n",
       ".solution_no_word {\n",
       "    font-size: 1.1em;\n",
       "    text-align: left;\n",
       "    border-left-color: rgb(204,153,102);\n",
       "    border-left-style: solid;\n",
       "    border-left-width: 0.3em;\n",
       "    padding-left: 0.6em;\n",
       "}\n",
       "\n",
       ".remark {\n",
       "    font-size: 1.1em;\n",
       "    text-align: left;\n",
       "    border-left-color: rgb(255, 153, 153);\n",
       "    border-left-style: solid;\n",
       "    border-left-width: 0.3em;\n",
       "    padding-left: 0.6em;\n",
       "    font-style: italic;\n",
       "}\n",
       "\n",
       ".remark::before {\n",
       "    content: counter(remark) \". Megjegyzés. \";\n",
       "    counter-increment: remark;\n",
       "    font-weight: bold;\n",
       "\n",
       "}\n",
       "\n",
       "\n",
       ".prompt.output_prompt {\n",
       "    visibility: hidden;\n",
       "}</style>"
      ],
      "text/plain": [
       "<IPython.core.display.HTML object>"
      ]
     },
     "execution_count": 2,
     "metadata": {},
     "output_type": "execute_result"
    }
   ],
   "source": [
    "from IPython.core.display import HTML\n",
    "import urllib.request\n",
    "response = urllib.request.urlopen('https://raw.githubusercontent.com/wesszabo/Differential-Equations/master/CSS/hw.css')\n",
    "HTML(response.read().decode(\"utf-8\"))"
   ]
  }
 ],
 "metadata": {
  "celltoolbar": "Initialization Cell",
  "hide_input": true,
  "kernelspec": {
   "display_name": "Python 3",
   "language": "python",
   "name": "python3"
  },
  "language_info": {
   "codemirror_mode": {
    "name": "ipython",
    "version": 3
   },
   "file_extension": ".py",
   "mimetype": "text/x-python",
   "name": "python",
   "nbconvert_exporter": "python",
   "pygments_lexer": "ipython3",
   "version": "3.7.6"
  },
  "rise": {
   "autolaunch": true
  },
  "toc": {
   "base_numbering": 1,
   "nav_menu": {
    "height": "47px",
    "width": "177px"
   },
   "number_sections": true,
   "sideBar": true,
   "skip_h1_title": false,
   "title_cell": "3. gyakorlat 2. (h) - (j) feladat",
   "title_sidebar": "3. gyakorlat 2. (h) - (j) feladat",
   "toc_cell": true,
   "toc_position": {
    "height": "calc(100% - 180px)",
    "left": "10px",
    "top": "150px",
    "width": "165px"
   },
   "toc_section_display": true,
   "toc_window_display": false
  }
 },
 "nbformat": 4,
 "nbformat_minor": 4
}
