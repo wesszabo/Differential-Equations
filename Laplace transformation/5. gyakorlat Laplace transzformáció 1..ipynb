{
 "cells": [
  {
   "cell_type": "markdown",
   "metadata": {
    "slideshow": {
     "slide_type": "slide"
    },
    "toc": true
   },
   "source": [
    "<h1>5. gyakorlat Laplace transzformáció 1.<span class=\"tocSkip\"></span></h1>\n",
    "<div class=\"toc\"><ul class=\"toc-item\"></ul></div>"
   ]
  },
  {
   "cell_type": "markdown",
   "metadata": {
    "slideshow": {
     "slide_type": "slide"
    }
   },
   "source": [
    "<div class='exercise'>\n",
    "Határozzuk meg $F(p)$-t, ha \n",
    "    \n",
    "\\begin{align}\n",
    "&(a) &f(t)&:=7\\sin(3t),\\\\\n",
    "&(b) &f(t)&:=4e^{-2t}.    \n",
    "\\end{align}\n",
    " \n",
    "</div>"
   ]
  },
  {
   "cell_type": "markdown",
   "metadata": {
    "slideshow": {
     "slide_type": "slide"
    }
   },
   "source": [
    "<div class='solution'>\n",
    "\n",
    "$(a)$:\n",
    "Mivel a Laplace transzformáció lineáris, ezért \n",
    "    \n",
    "$$\n",
    "F(p)=\\mathcal{L}[7\\sin(3t)](p)=7\\mathcal{L}[\\sin(3t)](p).\n",
    "$$\n",
    "\n",
    "Mivel $\\mathcal{L}[\\sin(bt)](p)=\\dfrac{b}{p^2+b^2}$, ezért ($b:=3$)\n",
    "    \n",
    "$$\n",
    "F(p)=\\frac{21}{p^2+9}.\n",
    "$$\n",
    "</div>"
   ]
  },
  {
   "cell_type": "markdown",
   "metadata": {
    "hide_input": true,
    "slideshow": {
     "slide_type": "slide"
    }
   },
   "source": [
    "<div class='solution'>\n",
    "    \n",
    "$(b)$:\n",
    "Mivel a Laplace transzformáció lineáris, ezért \n",
    "    \n",
    "$$\n",
    "F(p)=\\mathcal{L}[4e^{-2t}](p)=4\\mathcal{L}[e^{-2t}](p).\n",
    "$$\n",
    "\n",
    "Mivel $\\mathcal{L}[e^{at}](p)=\\dfrac{1}{p-a}$, ezért ($a:=-2$)\n",
    "    \n",
    "$$\n",
    "F(p)=\\frac{4}{p+2}.\n",
    "$$\n",
    "</div>"
   ]
  },
  {
   "cell_type": "code",
   "execution_count": 1,
   "metadata": {
    "hide_input": false,
    "init_cell": true,
    "scrolled": true,
    "slideshow": {
     "slide_type": "-"
    }
   },
   "outputs": [
    {
     "data": {
      "text/html": [
       "<script src=\"https://cdn.rawgit.com/parente/4c3e6936d0d7a46fd071/raw/65b816fb9bdd3c28b4ddf3af602bfd6015486383/code_toggle.js\"></script>\n"
      ],
      "text/plain": [
       "<IPython.core.display.HTML object>"
      ]
     },
     "metadata": {},
     "output_type": "display_data"
    }
   ],
   "source": [
    "%%html\n",
    "<script src=\"https://cdn.rawgit.com/parente/4c3e6936d0d7a46fd071/raw/65b816fb9bdd3c28b4ddf3af602bfd6015486383/code_toggle.js\"></script>"
   ]
  },
  {
   "cell_type": "code",
   "execution_count": 2,
   "metadata": {
    "hide_input": true,
    "init_cell": true,
    "slideshow": {
     "slide_type": "-"
    }
   },
   "outputs": [
    {
     "data": {
      "text/html": [
       "<style>\r\n",
       "div.h1 {\r\n",
       "    font-family: Arial, Helvetica, sans-serif;\r\n",
       "    font-size: 2em;\r\n",
       "    font-weight: bold;\r\n",
       "}\r\n",
       "\r\n",
       "p.author {\r\n",
       "    font-family: 'Times New Roman', Times, serif;\r\n",
       "    font-size: 1.2em;\r\n",
       "    text-align: justify;\r\n",
       "    line-height: normal;\r\n",
       "}\r\n",
       "\r\n",
       "p.date {\r\n",
       "    font-family: 'Times New Roman', Times, serif;\r\n",
       "    font-size: 1em;\r\n",
       "    text-align: justify;\r\n",
       "}\r\n",
       "\r\n",
       "p.abstract {\r\n",
       "    font-family: 'Times New Roman', Times, serif;\r\n",
       "    font-size: 1.5em;\r\n",
       "    text-align: left;\r\n",
       "    line-height: 1.4;\r\n",
       "}\r\n",
       "\r\n",
       "p.normal {\r\n",
       "    font-family: 'Times New Roman', Times, serif;\r\n",
       "    font-size: 1.3em;\r\n",
       "    text-align: justify;\r\n",
       "    line-height: 1.2;\r\n",
       "}\r\n",
       "\r\n",
       "p.normal-indent {\r\n",
       "    font-family: 'Times New Roman', Times, serif;\r\n",
       "    font-size: 1.3em;\r\n",
       "    text-align: justify;\r\n",
       "    line-height: 1.2;\r\n",
       "    text-indent: 0.5em;\r\n",
       "}\r\n",
       "\r\n",
       ".definition {\r\n",
       "    font-size: 1.1em;\r\n",
       "    text-align: left;\r\n",
       "    border-left-color: blue;\r\n",
       "    border-left-style: solid;\r\n",
       "    border-left-width: 0.3em;\r\n",
       "    padding-left: 0.6em;\r\n",
       "}\r\n",
       "\r\n",
       ".theorem {\r\n",
       "    font-size: 1.1em;\r\n",
       "    text-align: left;\r\n",
       "    border-left-color: rgb(255, 47, 0);\r\n",
       "    border-left-style: solid;\r\n",
       "    border-left-width: 0.3em;\r\n",
       "    padding-left: 0.6em;\r\n",
       "    font-style: italic;\r\n",
       "}\r\n",
       "\r\n",
       ".proof {\r\n",
       "    font-size: 1.1em;\r\n",
       "    text-align: left;\r\n",
       "    border-left-color: rgb(19, 114, 27);\r\n",
       "    border-left-style: solid;\r\n",
       "    border-left-width: 0.3em;\r\n",
       "    padding-left: 0.6em;\r\n",
       "}\r\n",
       "\r\n",
       ".exercise {\r\n",
       "    font-size: 1.1em;\r\n",
       "    text-align: left;\r\n",
       "    border-left-color: rgb(204,153,102);\r\n",
       "    border-left-style: solid;\r\n",
       "    border-left-width: 0.3em;\r\n",
       "    padding-left: 0.6em;\r\n",
       "}\r\n",
       "\r\n",
       ".exercise::before {\r\n",
       "    content: counter(exercise) \". Feladat. \";\r\n",
       "    counter-increment: exercise;\r\n",
       "    font-weight: bold;\r\n",
       "}\r\n",
       "\r\n",
       ".solution {\r\n",
       "    font-size: 1.1em;\r\n",
       "    text-align: left;\r\n",
       "    border-left-color: rgb(204,153,102);\r\n",
       "    border-left-style: solid;\r\n",
       "    border-left-width: 0.3em;\r\n",
       "    padding-left: 0.6em;\r\n",
       "}\r\n",
       "\r\n",
       ".solution::before {\r\n",
       "    content: \"Megoldás. \";\r\n",
       "    font-weight: bold;\r\n",
       "}\r\n",
       "\r\n",
       ".solution_no_word {\r\n",
       "    font-size: 1.1em;\r\n",
       "    text-align: left;\r\n",
       "    border-left-color: rgb(204,153,102);\r\n",
       "    border-left-style: solid;\r\n",
       "    border-left-width: 0.3em;\r\n",
       "    padding-left: 0.6em;\r\n",
       "}\r\n",
       "\r\n",
       ".remark {\r\n",
       "    font-size: 1.1em;\r\n",
       "    text-align: left;\r\n",
       "    border-left-color: rgb(255, 153, 153);\r\n",
       "    border-left-style: solid;\r\n",
       "    border-left-width: 0.3em;\r\n",
       "    padding-left: 0.6em;\r\n",
       "    font-style: italic;\r\n",
       "}\r\n",
       "\r\n",
       ".remark::before {\r\n",
       "    content: counter(remark) \". Megjegyzés. \";\r\n",
       "    counter-increment: remark;\r\n",
       "    font-weight: bold;\r\n",
       "\r\n",
       "}\r\n",
       "\r\n",
       ".prompt.output_prompt {\r\n",
       "    visibility: hidden;\r\n",
       "}\r\n",
       "</style>\r\n"
      ],
      "text/plain": [
       "<IPython.core.display.HTML object>"
      ]
     },
     "execution_count": 2,
     "metadata": {},
     "output_type": "execute_result"
    }
   ],
   "source": [
    "from IPython.core.display import HTML\n",
    "import urllib.request\n",
    "response = urllib.request.urlopen('https://raw.githubusercontent.com/wesszabo/Differential-Equations/master/CSS/hw.css')\n",
    "HTML(response.read().decode(\"utf-8\"))"
   ]
  }
 ],
 "metadata": {
  "celltoolbar": "Initialization Cell",
  "hide_input": true,
  "kernelspec": {
   "display_name": "Python 3",
   "language": "python",
   "name": "python3"
  },
  "language_info": {
   "codemirror_mode": {
    "name": "ipython",
    "version": 3
   },
   "file_extension": ".py",
   "mimetype": "text/x-python",
   "name": "python",
   "nbconvert_exporter": "python",
   "pygments_lexer": "ipython3",
   "version": "3.7.6"
  },
  "rise": {
   "autolaunch": true
  },
  "toc": {
   "base_numbering": 1,
   "nav_menu": {
    "height": "47px",
    "width": "177px"
   },
   "number_sections": true,
   "sideBar": true,
   "skip_h1_title": false,
   "title_cell": "5. gyakorlat Laplace transzformáció 1.",
   "title_sidebar": "5. gyakorlat Laplace transzformáció 1.",
   "toc_cell": true,
   "toc_position": {
    "height": "calc(100% - 180px)",
    "left": "10px",
    "top": "150px",
    "width": "165px"
   },
   "toc_section_display": true,
   "toc_window_display": false
  }
 },
 "nbformat": 4,
 "nbformat_minor": 4
}
