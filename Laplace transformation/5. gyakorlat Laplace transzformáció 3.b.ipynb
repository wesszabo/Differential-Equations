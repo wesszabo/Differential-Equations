{
 "cells": [
  {
   "cell_type": "markdown",
   "metadata": {
    "slideshow": {
     "slide_type": "slide"
    },
    "toc": true
   },
   "source": [
    "<h1>5. gyakorlat Laplace transzformáció 3.b<span class=\"tocSkip\"></span></h1>\n",
    "<div class=\"toc\"><ul class=\"toc-item\"></ul></div>"
   ]
  },
  {
   "cell_type": "markdown",
   "metadata": {
    "slideshow": {
     "slide_type": "slide"
    }
   },
   "source": [
    "<div class='exercise'>\n",
    "Oldjuk meg Laplace transzformációval \n",
    "    \n",
    "$$\n",
    "y''(t)+4y(t)=0,\\quad\\quad y(0)=0,y'(0)=3.\n",
    "$$\n",
    " \n",
    "</div>"
   ]
  },
  {
   "cell_type": "markdown",
   "metadata": {
    "slideshow": {
     "slide_type": "slide"
    }
   },
   "source": [
    "<div class='solution'>\n",
    "Mivel \n",
    "    \n",
    "$$\n",
    "\\mathcal{L}[y''(t)](p)=p^2 Y(p)-py(0)-y'(0),\n",
    "$$\n",
    "\n",
    "ezért az egyenletből\n",
    "    \n",
    "$$\n",
    "p^2 Y(p)-3+4Y(p)=0.\n",
    "$$\n",
    "  \n",
    "</div>"
   ]
  },
  {
   "cell_type": "markdown",
   "metadata": {
    "hide_input": true,
    "slideshow": {
     "slide_type": "slide"
    }
   },
   "source": [
    "<div class='solution_no_word'>\n",
    "Ebből\n",
    "    \n",
    "$$\n",
    "Y(p)=\\frac{3}{p^2+4}.\n",
    "$$\n",
    "\n",
    "Ezért\n",
    "\n",
    "\\begin{align}\n",
    "y(t) &=\\mathcal{L}^{-1}[Y(p)](t) \\\\[5px]\n",
    "&=\\frac{3}{2}\\mathcal{L}^{-1}\\left[\\frac{2}{p^2+4} \\right] \\\\[5px]\n",
    "&=\\frac{3}{2}\\sin(2t).\n",
    "\\end{align}\n",
    "</div>"
   ]
  },
  {
   "cell_type": "code",
   "execution_count": 17,
   "metadata": {
    "hide_input": false,
    "scrolled": true,
    "slideshow": {
     "slide_type": "-"
    }
   },
   "outputs": [
    {
     "data": {
      "text/html": [
       "<script src=\"https://cdn.rawgit.com/parente/4c3e6936d0d7a46fd071/raw/65b816fb9bdd3c28b4ddf3af602bfd6015486383/code_toggle.js\"></script>\n"
      ],
      "text/plain": [
       "<IPython.core.display.HTML object>"
      ]
     },
     "metadata": {},
     "output_type": "display_data"
    }
   ],
   "source": [
    "%%html\n",
    "<script src=\"https://cdn.rawgit.com/parente/4c3e6936d0d7a46fd071/raw/65b816fb9bdd3c28b4ddf3af602bfd6015486383/code_toggle.js\"></script>"
   ]
  },
  {
   "cell_type": "code",
   "execution_count": 1,
   "metadata": {
    "hide_input": true,
    "slideshow": {
     "slide_type": "-"
    }
   },
   "outputs": [
    {
     "data": {
      "text/html": [
       "<style>div.h1 {\n",
       "    font-family: Arial, Helvetica, sans-serif;\n",
       "    font-size: 2em;\n",
       "    font-weight: bold;\n",
       "}\n",
       "\n",
       "p.author {\n",
       "    font-family: 'Times New Roman', Times, serif;\n",
       "    font-size: 1.2em;\n",
       "    text-align: justify;\n",
       "    line-height: normal;\n",
       "}\n",
       "\n",
       "p.date {\n",
       "    font-family: 'Times New Roman', Times, serif;\n",
       "    font-size: 1em;\n",
       "    text-align: justify;\n",
       "}\n",
       "\n",
       "p.abstract {\n",
       "    font-family: 'Times New Roman', Times, serif;\n",
       "    font-size: 1.5em;\n",
       "    text-align: left;\n",
       "    line-height: 1.4;\n",
       "}\n",
       "\n",
       "p.normal {\n",
       "    font-family: 'Times New Roman', Times, serif;\n",
       "    font-size: 1.3em;\n",
       "    text-align: justify;\n",
       "    line-height: 1.2;\n",
       "}\n",
       "\n",
       "p.normal-indent {\n",
       "    font-family: 'Times New Roman', Times, serif;\n",
       "    font-size: 1.3em;\n",
       "    text-align: justify;\n",
       "    line-height: 1.2;\n",
       "    text-indent: 0.5em;\n",
       "}\n",
       "\n",
       ".definition {\n",
       "    font-size: 1.1em;\n",
       "    text-align: left;\n",
       "    border-left-color: blue;\n",
       "    border-left-style: solid;\n",
       "    border-left-width: 0.3em;\n",
       "    padding-left: 0.6em;\n",
       "}\n",
       "\n",
       ".theorem {\n",
       "    font-size: 1.1em;\n",
       "    text-align: left;\n",
       "    border-left-color: rgb(255, 47, 0);\n",
       "    border-left-style: solid;\n",
       "    border-left-width: 0.3em;\n",
       "    padding-left: 0.6em;\n",
       "    font-style: italic;\n",
       "}\n",
       "\n",
       ".proof {\n",
       "    font-size: 1.1em;\n",
       "    text-align: left;\n",
       "    border-left-color: rgb(19, 114, 27);\n",
       "    border-left-style: solid;\n",
       "    border-left-width: 0.3em;\n",
       "    padding-left: 0.6em;\n",
       "}\n",
       "\n",
       ".exercise {\n",
       "    font-size: 1.1em;\n",
       "    text-align: left;\n",
       "    border-left-color: rgb(204,153,102);\n",
       "    border-left-style: solid;\n",
       "    border-left-width: 0.3em;\n",
       "    padding-left: 0.6em;\n",
       "}\n",
       "\n",
       ".exercise::before {\n",
       "    content: counter(exercise) \". Feladat. \";\n",
       "    counter-increment: exercise;\n",
       "    font-weight: bold;\n",
       "}\n",
       "\n",
       ".solution {\n",
       "    font-size: 1.1em;\n",
       "    text-align: left;\n",
       "    border-left-color: rgb(204,153,102);\n",
       "    border-left-style: solid;\n",
       "    border-left-width: 0.3em;\n",
       "    padding-left: 0.6em;\n",
       "}\n",
       "\n",
       ".solution::before {\n",
       "    content: \"Megoldás. \";\n",
       "    font-weight: bold;\n",
       "}\n",
       "\n",
       ".solution_no_word {\n",
       "    font-size: 1.1em;\n",
       "    text-align: left;\n",
       "    border-left-color: rgb(204,153,102);\n",
       "    border-left-style: solid;\n",
       "    border-left-width: 0.3em;\n",
       "    padding-left: 0.6em;\n",
       "}\n",
       "\n",
       "\n",
       ".prompt.output_prompt {\n",
       "    visibility: hidden;\n",
       "}</style>"
      ],
      "text/plain": [
       "<IPython.core.display.HTML object>"
      ]
     },
     "execution_count": 1,
     "metadata": {},
     "output_type": "execute_result"
    }
   ],
   "source": [
    "from IPython.display import HTML\n",
    "def css_styling():\n",
    "    styles = open(\"../CSS/hw.css\", \"r\").read()\n",
    "    return HTML(\"<style>\"+styles+\"</style>\")\n",
    "css_styling()"
   ]
  }
 ],
 "metadata": {
  "celltoolbar": "Slideshow",
  "hide_input": false,
  "kernelspec": {
   "display_name": "Python 3",
   "language": "python",
   "name": "python3"
  },
  "language_info": {
   "codemirror_mode": {
    "name": "ipython",
    "version": 3
   },
   "file_extension": ".py",
   "mimetype": "text/x-python",
   "name": "python",
   "nbconvert_exporter": "python",
   "pygments_lexer": "ipython3",
   "version": "3.7.6"
  },
  "latex_envs": {
   "LaTeX_envs_menu_present": true,
   "autoclose": true,
   "autocomplete": true,
   "bibliofile": "biblio.bib",
   "cite_by": "apalike",
   "current_citInitial": 1,
   "eqLabelWithNumbers": true,
   "eqNumInitial": 1,
   "hotkeys": {
    "equation": "Ctrl-E",
    "itemize": "Ctrl-I"
   },
   "labels_anchors": true,
   "latex_user_defs": true,
   "report_style_numbering": false,
   "user_envs_cfg": true
  },
  "rise": {
   "enable_chalkboard": true
  },
  "toc": {
   "base_numbering": 1,
   "nav_menu": {
    "height": "47px",
    "width": "177px"
   },
   "number_sections": true,
   "sideBar": true,
   "skip_h1_title": false,
   "title_cell": "5. gyakorlat Laplace transzformáció 3.b",
   "title_sidebar": "5. gyakorlat Laplace transzformáció 3.b",
   "toc_cell": true,
   "toc_position": {
    "height": "calc(100% - 180px)",
    "left": "10px",
    "top": "150px",
    "width": "165px"
   },
   "toc_section_display": true,
   "toc_window_display": false
  }
 },
 "nbformat": 4,
 "nbformat_minor": 4
}
