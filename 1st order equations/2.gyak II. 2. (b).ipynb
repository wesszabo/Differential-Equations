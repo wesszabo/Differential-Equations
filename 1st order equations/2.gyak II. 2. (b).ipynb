{
 "cells": [
  {
   "cell_type": "markdown",
   "metadata": {
    "slideshow": {
     "slide_type": "slide"
    },
    "toc": true
   },
   "source": [
    "<h1>2. gyakorlat II. 2. (b) feladat<span class=\"tocSkip\"></span></h1>\n",
    "<div class=\"toc\"><ul class=\"toc-item\"></ul></div>"
   ]
  },
  {
   "cell_type": "markdown",
   "metadata": {
    "slideshow": {
     "slide_type": "slide"
    }
   },
   "source": [
    "<div class='exercise'>\n",
    "Oldjuk meg az\n",
    "\n",
    "\\begin{equation}\\label{eq:origin}\n",
    "\\dot{x}(t)+2x(t)=e^t,\\quad\\quad x(0)=0\n",
    "\\end{equation}\n",
    "\n",
    "kezdeti érték problémát.\n",
    "</div>"
   ]
  },
  {
   "cell_type": "markdown",
   "metadata": {
    "slideshow": {
     "slide_type": "slide"
    }
   },
   "source": [
    "<div class='solution'>\n",
    "\n",
    "(a) Először a homogén egyenletet oldjuk meg. \n",
    "\n",
    "$$\n",
    "\\dot{x}(t)=-2x(t).\n",
    "$$\n",
    "\n",
    "Az egyenlet konstans függvény megoldása\n",
    "\n",
    "$$\n",
    "x(t)=\\underset{\\sim}{0}.\n",
    "$$\n",
    "</div>"
   ]
  },
  {
   "cell_type": "markdown",
   "metadata": {
    "slideshow": {
     "slide_type": "slide"
    }
   },
   "source": [
    "<div class='solution_no_word'>\n",
    "Az egyenletet\n",
    "\n",
    "$$\n",
    "\\frac{dx}{dt}=-2x\n",
    "$$\n",
    "\n",
    "alakban írva a változókat szét tudjuk választani\n",
    "\n",
    "$$\n",
    "\\frac{1}{x}\\,dx=-2\\,dt.\n",
    "$$\n",
    "\n",
    "Mindkét oldalt integrálva kapjuk, hogy\n",
    "\n",
    "$$\n",
    "\\ln|x|=-2t+C,\n",
    "$$\n",
    "\n",
    "ahol $C$\n",
    "</div>"
   ]
  },
  {
   "cell_type": "markdown",
   "metadata": {
    "slideshow": {
     "slide_type": "fragment"
    }
   },
   "source": [
    "<div class='solution_no_word'>\n",
    "tetszőleges konstans.\n",
    "</div>"
   ]
  },
  {
   "cell_type": "markdown",
   "metadata": {
    "slideshow": {
     "slide_type": "slide"
    }
   },
   "source": [
    "<div class='solution_no_word'>\n",
    "Rendezve az egyenletet, \n",
    "\n",
    "$$\n",
    "|x|=C e^{-2t},\n",
    "$$\n",
    "\n",
    "ahol $C$\n",
    "</div>"
   ]
  },
  {
   "cell_type": "markdown",
   "metadata": {
    "slideshow": {
     "slide_type": "fragment"
    }
   },
   "source": [
    "<div class='solution_no_word'>\n",
    "tetszőleges pozitív konstans.\n",
    "</div>"
   ]
  },
  {
   "cell_type": "markdown",
   "metadata": {
    "slideshow": {
     "slide_type": "slide"
    }
   },
   "source": [
    "<div class='solution_no_word'>\n",
    "Ebből \n",
    "\n",
    "$$\n",
    "x(t)=C e^{-2t},\n",
    "$$\n",
    "\n",
    "ahol $C$\n",
    "</div>"
   ]
  },
  {
   "cell_type": "markdown",
   "metadata": {
    "slideshow": {
     "slide_type": "fragment"
    }
   },
   "source": [
    "<div class='solution_no_word'>\n",
    "tetszőleges nem-nulla konstans.\n",
    "</div>"
   ]
  },
  {
   "cell_type": "markdown",
   "metadata": {
    "slideshow": {
     "slide_type": "slide"
    }
   },
   "source": [
    "<div class='solution_no_word'>\n",
    "A $C=0$ esetben megkapjuk a konstans függvény megoldást. \n",
    "Ezért a homogén egyenlet összes megoldása\n",
    "\n",
    "$$\n",
    "x_{hö}(t)=C e^{-2t},\n",
    "$$\n",
    "\n",
    "ahol $C$ tetszőleges valós szám lehet.\n",
    "</div>"
   ]
  },
  {
   "cell_type": "markdown",
   "metadata": {
    "slideshow": {
     "slide_type": "slide"
    }
   },
   "source": [
    "<div class='solution_no_word'>\n",
    "(b) Az inhomogén egyenlet egy partikuláris megoldását \n",
    "\n",
    "$$\n",
    "x(t)= ?\n",
    "$$\n",
    "\n",
    "alakban keressük, ahol\n",
    "</div>"
   ]
  },
  {
   "cell_type": "markdown",
   "metadata": {
    "slideshow": {
     "slide_type": "fragment"
    }
   },
   "source": [
    "<div class='solution_no_word'>\n",
    "$$\n",
    "x(t)=c(t)\\, e^{-2t}.\n",
    "$$\n",
    "</div>"
   ]
  },
  {
   "cell_type": "markdown",
   "metadata": {
    "slideshow": {
     "slide_type": "slide"
    }
   },
   "source": [
    "<div class='solution_no_word'>\n",
    "Ebből \n",
    "\n",
    "$$\n",
    "\\dot{x}(t)=\\dot{c}(t)e^{-2t}-2c(t)e^{-2t}.\n",
    "$$\n",
    "\n",
    "Visszahelyettesítve az eredeti $\\eqref{eq:origin}$  egyenletbe azt kapjuk, hogy \n",
    "\n",
    "$$\n",
    "\\dot{c}(t)e^{-2t}=e^t,\n",
    "$$\n",
    "\n",
    "amiből rendezés után\n",
    "\n",
    "$$\n",
    "\\dot{c}(t)=e^{3t}.\n",
    "$$\n",
    "\n",
    "adódik. Integrálás után\n",
    "\n",
    "$$\n",
    "c(t)=?\n",
    "$$\n",
    "</div>"
   ]
  },
  {
   "cell_type": "markdown",
   "metadata": {
    "slideshow": {
     "slide_type": "slide"
    }
   },
   "source": [
    "<div class='solution_no_word'>\n",
    "$$\n",
    "c(t)=\\frac{e^{3t}}{3}\n",
    "$$\n",
    "\n",
    "adódik.\n",
    "</div>"
   ]
  },
  {
   "cell_type": "markdown",
   "metadata": {
    "slideshow": {
     "slide_type": "slide"
    }
   },
   "source": [
    "<div class='solution_no_word'>\n",
    "Tehát az inhomogén egyenlet egy partikuláris megoldása\n",
    "\n",
    "$$\n",
    "x_{ihp}(t)=?\n",
    "$$\n",
    "</div>"
   ]
  },
  {
   "cell_type": "markdown",
   "metadata": {
    "slideshow": {
     "slide_type": "fragment"
    }
   },
   "source": [
    "<div class='solution_no_word'>\n",
    "$$\n",
    "x_{ihp}(t)=\\frac{1}{3}e^t.\n",
    "$$\n",
    "</div>"
   ]
  },
  {
   "cell_type": "markdown",
   "metadata": {
    "slideshow": {
     "slide_type": "slide"
    }
   },
   "source": [
    "<div class='solution_no_word'>\n",
    "Az inhomogén egyenlet összes megoldása \n",
    "\n",
    "$$\n",
    "x_{ihö}(t)=?\n",
    "$$\n",
    "</div>"
   ]
  },
  {
   "cell_type": "markdown",
   "metadata": {
    "slideshow": {
     "slide_type": "fragment"
    }
   },
   "source": [
    "<div class='solution_no_word'>\n",
    "$$\n",
    "x_{ihö}(t)=x_{hö}(t)+x_{ihp}(t),\n",
    "$$\n",
    "</div>"
   ]
  },
  {
   "cell_type": "markdown",
   "metadata": {
    "slideshow": {
     "slide_type": "fragment"
    }
   },
   "source": [
    "<div class='solution_no_word'>\n",
    "azaz,\n",
    "\n",
    "$$\n",
    "x_{ihö}(t)=Ce^{-2t}+\\frac{1}{3}e^t,\n",
    "$$\n",
    "\n",
    "ahol $C$ tetszőleges valós szám. \n",
    "</div>"
   ]
  },
  {
   "cell_type": "markdown",
   "metadata": {
    "slideshow": {
     "slide_type": "slide"
    }
   },
   "source": [
    "<div class='solution_no_word'>\n",
    "(c) A kezdeti értéket figyelembe véve kapjuk, hogy\n",
    "\n",
    "$$\n",
    "x(0)=C+\\frac{1}{3},\n",
    "$$\n",
    "\n",
    "amiből\n",
    "\n",
    "$$\n",
    "C=x(0)-\\frac{1}{3}.\n",
    "$$\n",
    "</div>"
   ]
  },
  {
   "cell_type": "markdown",
   "metadata": {
    "slideshow": {
     "slide_type": "slide"
    }
   },
   "source": [
    "<div class='solution_no_word'>\n",
    "A kezdeti érték probléma megoldása\n",
    "\n",
    "$$\n",
    "x(t)=\\left(x(0)-\\frac{1}{3}\\right)e^{-2t}+\\frac{1}{3}e^t,\n",
    "$$\n",
    "\n",
    "azaz,\n",
    "\n",
    "$$\n",
    "x(t)=-\\frac{1}{3}e^{-2t}+\\frac{1}{3}e^t               .\\qquad \\blacksquare\n",
    "$$\n",
    "</div>"
   ]
  },
  {
   "cell_type": "markdown",
   "metadata": {
    "slideshow": {
     "slide_type": "slide"
    }
   },
   "source": [
    "<div class='remark'>\n",
    "\\begin{equation}\\label{eq:}\n",
    "\\lim_{t\\to\\infty}\\frac{x(t)}{e^t}=\\frac{1}{3},\n",
    "\\end{equation}\n",
    "a kezdeti értéktől függetlenül. \n",
    "</div>"
   ]
  },
  {
   "cell_type": "code",
   "execution_count": 5,
   "metadata": {
    "slideshow": {
     "slide_type": "slide"
    }
   },
   "outputs": [
    {
     "data": {
      "application/vnd.jupyter.widget-view+json": {
       "model_id": "1251918cd32f4668bc4c5c39edd8e26a",
       "version_major": 2,
       "version_minor": 0
      },
      "text/plain": [
       "VBox(children=(FigureWidget({\n",
       "    'data': [{'line': {'color': 'red', 'width': 2},\n",
       "              'name': '$y(t)…"
      ]
     },
     "metadata": {},
     "output_type": "display_data"
    }
   ],
   "source": [
    "import plotly.figure_factory as ff\n",
    "import plotly.graph_objects as go\n",
    "import numpy as np\n",
    "import ipywidgets as widgets\n",
    "from ipywidgets import interactive, VBox, FloatSlider \n",
    "\n",
    "x0 = 0.\n",
    "C = x0 - 1/3.\n",
    "\n",
    "t = np.linspace(0, 4, 50)\n",
    "y = C*np.exp(-2*t) + 1./3.*np.exp(t)\n",
    "\n",
    "trace1 = go.Scatter(\n",
    "    line=dict(color='red', width=2),\n",
    "    x=t,\n",
    "    y=y,\n",
    "    name=r'$y(t)$')\n",
    "\n",
    "trace2 = go.Scatter(\n",
    "    line=dict(color='black', width=1),\n",
    "    x=t,\n",
    "    y=1./3.*np.exp(t),\n",
    "    name=r'határfüggvény')\n",
    "\n",
    "data = [trace1, trace2]\n",
    "\n",
    "layout = go.Layout(\n",
    "    xaxis = dict(\n",
    "        title = r'$t$',\n",
    "        range=[0,4]\n",
    "    ),\n",
    "    yaxis = dict(\n",
    "        title = r'$y$',\n",
    "        range = [-3,14],\n",
    "        scaleratio = 1\n",
    "    ),\n",
    "    title = dict(\n",
    "        text = r'$y(t)=\\left(x_0-\\frac{1}{3}\\right) e^{-2t} + \\frac{1}{3}e^{t}$',\n",
    "        font = dict(\n",
    "            size = 20\n",
    "        ),\n",
    "        y = 0.85,\n",
    "        x = 0.5,\n",
    "        xanchor = 'center',\n",
    "        yanchor = 'top'\n",
    "    )\n",
    ")\n",
    "\n",
    "fig = go.FigureWidget(\n",
    "    data = data, layout = layout\n",
    ")\n",
    "\n",
    "###############\n",
    "def update_y(x0):\n",
    "    fig.data[0].y = (x0-1./3.)*np.exp(-2*t) + 1./3.*np.exp(t)\n",
    "\n",
    "style = {'description_width': 'initial'}\n",
    "slider_x0 =  FloatSlider(min=-3, max=5, step=0.1, value=0,\n",
    "                       style=style)\n",
    "slider_x0.description = r'$x_0$'\n",
    "slider = interactive(update_y, x0=slider_x0)\n",
    "vb = VBox((fig, slider_x0))\n",
    "vb.layout.align_items = 'center'\n",
    "vb"
   ]
  },
  {
   "cell_type": "code",
   "execution_count": 1,
   "metadata": {
    "slideshow": {
     "slide_type": "-"
    }
   },
   "outputs": [
    {
     "data": {
      "text/html": [
       "<script src=\"https://cdn.rawgit.com/parente/4c3e6936d0d7a46fd071/raw/65b816fb9bdd3c28b4ddf3af602bfd6015486383/code_toggle.js\"></script>\n"
      ],
      "text/plain": [
       "<IPython.core.display.HTML object>"
      ]
     },
     "metadata": {},
     "output_type": "display_data"
    }
   ],
   "source": [
    "%%html\n",
    "<script src=\"https://cdn.rawgit.com/parente/4c3e6936d0d7a46fd071/raw/65b816fb9bdd3c28b4ddf3af602bfd6015486383/code_toggle.js\"></script>"
   ]
  },
  {
   "cell_type": "code",
   "execution_count": 2,
   "metadata": {
    "slideshow": {
     "slide_type": "-"
    }
   },
   "outputs": [
    {
     "data": {
      "text/html": [
       "<style>div.h1 {\n",
       "    font-family: Arial, Helvetica, sans-serif;\n",
       "    font-size: 2em;\n",
       "    font-weight: bold;\n",
       "}\n",
       "\n",
       "p.author {\n",
       "    font-family: 'Times New Roman', Times, serif;\n",
       "    font-size: 1.2em;\n",
       "    text-align: justify;\n",
       "    line-height: normal;\n",
       "}\n",
       "\n",
       "p.date {\n",
       "    font-family: 'Times New Roman', Times, serif;\n",
       "    font-size: 1em;\n",
       "    text-align: justify;\n",
       "}\n",
       "\n",
       "p.abstract {\n",
       "    font-family: 'Times New Roman', Times, serif;\n",
       "    font-size: 1.5em;\n",
       "    text-align: left;\n",
       "    line-height: 1.4;\n",
       "}\n",
       "\n",
       "p.normal {\n",
       "    font-family: 'Times New Roman', Times, serif;\n",
       "    font-size: 1.3em;\n",
       "    text-align: justify;\n",
       "    line-height: 1.2;\n",
       "}\n",
       "\n",
       "p.normal-indent {\n",
       "    font-family: 'Times New Roman', Times, serif;\n",
       "    font-size: 1.3em;\n",
       "    text-align: justify;\n",
       "    line-height: 1.2;\n",
       "    text-indent: 0.5em;\n",
       "}\n",
       "\n",
       ".definition {\n",
       "    font-size: 1.1em;\n",
       "    text-align: left;\n",
       "    border-left-color: blue;\n",
       "    border-left-style: solid;\n",
       "    border-left-width: 0.3em;\n",
       "    padding-left: 0.6em;\n",
       "}\n",
       "\n",
       ".theorem {\n",
       "    font-size: 1.1em;\n",
       "    text-align: left;\n",
       "    border-left-color: rgb(255, 47, 0);\n",
       "    border-left-style: solid;\n",
       "    border-left-width: 0.3em;\n",
       "    padding-left: 0.6em;\n",
       "    font-style: italic;\n",
       "}\n",
       "\n",
       ".proof {\n",
       "    font-size: 1.1em;\n",
       "    text-align: left;\n",
       "    border-left-color: rgb(19, 114, 27);\n",
       "    border-left-style: solid;\n",
       "    border-left-width: 0.3em;\n",
       "    padding-left: 0.6em;\n",
       "}\n",
       "\n",
       ".exercise {\n",
       "    font-size: 1.1em;\n",
       "    text-align: left;\n",
       "    border-left-color: rgb(204,153,102);\n",
       "    border-left-style: solid;\n",
       "    border-left-width: 0.3em;\n",
       "    padding-left: 0.6em;\n",
       "}\n",
       "\n",
       ".exercise::before {\n",
       "    content: counter(exercise) \". Feladat. \";\n",
       "    counter-increment: exercise;\n",
       "    font-weight: bold;\n",
       "}\n",
       "\n",
       ".solution {\n",
       "    font-size: 1.1em;\n",
       "    text-align: left;\n",
       "    border-left-color: rgb(204,153,102);\n",
       "    border-left-style: solid;\n",
       "    border-left-width: 0.3em;\n",
       "    padding-left: 0.6em;\n",
       "}\n",
       "\n",
       ".solution::before {\n",
       "    content: \"Megoldás. \";\n",
       "    font-weight: bold;\n",
       "}\n",
       "\n",
       ".solution_no_word {\n",
       "    font-size: 1.1em;\n",
       "    text-align: left;\n",
       "    border-left-color: rgb(204,153,102);\n",
       "    border-left-style: solid;\n",
       "    border-left-width: 0.3em;\n",
       "    padding-left: 0.6em;\n",
       "}\n",
       "\n",
       ".remark {\n",
       "    font-size: 1.1em;\n",
       "    text-align: left;\n",
       "    border-left-color: rgb(255, 153, 153);\n",
       "    border-left-style: solid;\n",
       "    border-left-width: 0.3em;\n",
       "    padding-left: 0.6em;\n",
       "    font-style: italic;\n",
       "}\n",
       "\n",
       ".remark::before {\n",
       "    content: counter(remark) \". Megjegyzés. \";\n",
       "    counter-increment: remark;\n",
       "    font-weight: bold;\n",
       "\n",
       "}\n",
       "\n",
       "\n",
       ".prompt.output_prompt {\n",
       "    visibility: hidden;\n",
       "}</style>"
      ],
      "text/plain": [
       "<IPython.core.display.HTML object>"
      ]
     },
     "execution_count": 2,
     "metadata": {},
     "output_type": "execute_result"
    }
   ],
   "source": [
    "from IPython.display import HTML\n",
    "def css_styling():\n",
    "    styles = open(\"../../css/hw.css\", \"r\").read()\n",
    "    return HTML(\"<style>\"+styles+\"</style>\")\n",
    "css_styling()"
   ]
  }
 ],
 "metadata": {
  "celltoolbar": "Slideshow",
  "hide_input": true,
  "kernelspec": {
   "display_name": "Python 3",
   "language": "python",
   "name": "python3"
  },
  "language_info": {
   "codemirror_mode": {
    "name": "ipython",
    "version": 3
   },
   "file_extension": ".py",
   "mimetype": "text/x-python",
   "name": "python",
   "nbconvert_exporter": "python",
   "pygments_lexer": "ipython3",
   "version": "3.7.6"
  },
  "latex_envs": {
   "LaTeX_envs_menu_present": true,
   "autoclose": true,
   "autocomplete": true,
   "bibliofile": "biblio.bib",
   "cite_by": "apalike",
   "current_citInitial": 1,
   "eqLabelWithNumbers": true,
   "eqNumInitial": 1,
   "hotkeys": {
    "equation": "Ctrl-E",
    "itemize": "Ctrl-I"
   },
   "labels_anchors": true,
   "latex_user_defs": true,
   "report_style_numbering": false,
   "user_envs_cfg": true
  },
  "rise": {
   "enable_chalkboard": true
  },
  "toc": {
   "base_numbering": 1,
   "nav_menu": {
    "height": "47px",
    "width": "177px"
   },
   "number_sections": true,
   "sideBar": true,
   "skip_h1_title": false,
   "title_cell": "2. gyakorlat II. 2. (b) feladat",
   "title_sidebar": "2. gyakorlat II. 2. (b) feladat",
   "toc_cell": true,
   "toc_position": {
    "height": "calc(100% - 180px)",
    "left": "10px",
    "top": "150px",
    "width": "165px"
   },
   "toc_section_display": true,
   "toc_window_display": false
  }
 },
 "nbformat": 4,
 "nbformat_minor": 4
}
