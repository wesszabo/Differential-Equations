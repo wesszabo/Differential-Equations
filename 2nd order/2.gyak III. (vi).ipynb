{
 "cells": [
  {
   "cell_type": "markdown",
   "metadata": {
    "slideshow": {
     "slide_type": "slide"
    },
    "toc": true
   },
   "source": [
    "<h1>2. gyakorlat III. (vi) feladat<span class=\"tocSkip\"></span></h1>\n",
    "<div class=\"toc\"><ul class=\"toc-item\"></ul></div>"
   ]
  },
  {
   "cell_type": "markdown",
   "metadata": {
    "slideshow": {
     "slide_type": "slide"
    }
   },
   "source": [
    "<div class='exercise'>\n",
    "Oldjuk meg az\n",
    "\n",
    "\\begin{equation}\\label{eq:origin}\n",
    "y''+4y=0,\\qquad\\quad y(0)=0,\\quad y'(0)=6\n",
    "\\end{equation}\n",
    "\n",
    "kezdetiérték problémát. (Harmonikus rezgés.)\n",
    "</div>"
   ]
  },
  {
   "cell_type": "markdown",
   "metadata": {
    "slideshow": {
     "slide_type": "slide"
    }
   },
   "source": [
    "<div class='solution'> \n",
    "\n",
    "Először a differenciálegyenletet oldjuk meg.\n",
    "Keressük a megoldást \n",
    "\n",
    "$$\n",
    "y(t)=e^{\\lambda t}\n",
    "$$\n",
    "\n",
    "alakban. Behelyettesítve az egyenletbe kapjuk\n",
    "\n",
    "$$\n",
    "\\lambda^2 e^{\\lambda t}+4 e^{\\lambda t}=0.\n",
    "$$\n",
    "\n",
    "Mivel az exponenciális függvény sehol nem $0$, ezért ebből a\n",
    "\n",
    "$$\n",
    "\\lambda^2+4=0\n",
    "$$\n",
    "\n",
    "egyenletet kapjuk. Ennek gyökei\n",
    "\n",
    "</div>"
   ]
  },
  {
   "cell_type": "markdown",
   "metadata": {
    "slideshow": {
     "slide_type": "slide"
    }
   },
   "source": [
    "<div class='solution_no_word'>\n",
    "$$\n",
    "\\lambda_1=?, \\qquad\\quad \\lambda_2=?\n",
    "$$\n",
    "</div>"
   ]
  },
  {
   "cell_type": "markdown",
   "metadata": {
    "slideshow": {
     "slide_type": "fragment"
    }
   },
   "source": [
    "<div class='solution_no_word'>\n",
    "$$\n",
    "\\lambda_1=2i, \\qquad\\quad \\lambda_2=-2i.\n",
    "$$\n",
    "</div>"
   ]
  },
  {
   "cell_type": "markdown",
   "metadata": {
    "slideshow": {
     "slide_type": "fragment"
    }
   },
   "source": [
    "<div class='solution_no_word'>\n",
    "Ezért a differenciálegyenlet (általános) megoldása\n",
    "\n",
    "$$\n",
    "y(t)=A\\cos(2t)+B\\sin(2t),\n",
    "$$\n",
    "\n",
    "ahol $A,B$\n",
    "</div>"
   ]
  },
  {
   "cell_type": "markdown",
   "metadata": {
    "slideshow": {
     "slide_type": "fragment"
    }
   },
   "source": [
    "<div class='solution_no_word'>\n",
    "tetszőleges konstans. \n",
    "</div>"
   ]
  },
  {
   "cell_type": "markdown",
   "metadata": {
    "slideshow": {
     "slide_type": "slide"
    }
   },
   "source": [
    "<div class='solution_no_word'>\n",
    "Mivel $y(0)=0$, ezért $A=?$\n",
    "</div>"
   ]
  },
  {
   "cell_type": "markdown",
   "metadata": {
    "slideshow": {
     "slide_type": "fragment"
    }
   },
   "source": [
    "<div class='solution_no_word'>\n",
    "$A=0$.\n",
    "</div>"
   ]
  },
  {
   "cell_type": "markdown",
   "metadata": {
    "slideshow": {
     "slide_type": "fragment"
    }
   },
   "source": [
    "<div class='solution_no_word'>\n",
    "Mivel $y'(t)=2B\\cos(2t)$ és $y'(0)=6$, ezért $B=?$\n",
    "</div>"
   ]
  },
  {
   "cell_type": "markdown",
   "metadata": {
    "slideshow": {
     "slide_type": "fragment"
    }
   },
   "source": [
    "<div class='solution_no_word'>\n",
    "$B=3$.\n",
    "</div>"
   ]
  },
  {
   "cell_type": "markdown",
   "metadata": {
    "slideshow": {
     "slide_type": "slide"
    }
   },
   "source": [
    "<div class='solution_no_word'>\n",
    "Ezért a kezdeti érték probléma megoldása\n",
    "\n",
    "$$\n",
    "y(t)=3\\sin(2t).\n",
    "$$\n",
    "$\\blacksquare$\n",
    "</div>"
   ]
  },
  {
   "cell_type": "code",
   "execution_count": 1,
   "metadata": {
    "init_cell": true,
    "slideshow": {
     "slide_type": "slide"
    }
   },
   "outputs": [
    {
     "data": {
      "application/vnd.jupyter.widget-view+json": {
       "model_id": "a0c1a726ec23452fb2e5a7d2e00ad4da",
       "version_major": 2,
       "version_minor": 0
      },
      "text/plain": [
       "VBox(children=(FigureWidget({\n",
       "    'data': [{'line': {'color': 'red', 'width': 2},\n",
       "              'name': '$y(t)…"
      ]
     },
     "metadata": {},
     "output_type": "display_data"
    }
   ],
   "source": [
    "import plotly.figure_factory as ff\n",
    "import plotly.graph_objects as go\n",
    "import numpy as np\n",
    "import ipywidgets as widgets\n",
    "from ipywidgets import interactive, VBox, FloatSlider \n",
    "\n",
    "y0 = 1.0\n",
    "dy0 = 0.0\n",
    "\n",
    "A = y0\n",
    "B = dy0/2\n",
    "t = np.linspace(-3, 3, 60)\n",
    "y = A*np.cos(2*t)+B*np.sin(2*t)\n",
    "\n",
    "trace1 = go.Scatter(\n",
    "    line=dict(color='red', width=2),\n",
    "    x=t,\n",
    "    y=y,\n",
    "    name=r'$y(t)$')\n",
    "\n",
    "data = [trace1]\n",
    "\n",
    "layout = go.Layout(\n",
    "    xaxis = dict(\n",
    "        title = r'$t$',\n",
    "        range=[-3,3]\n",
    "    ),\n",
    "    yaxis = dict(\n",
    "        title = r'$y$',\n",
    "        range = [-4,4],\n",
    "        scaleratio = 1\n",
    "    ),\n",
    "    title = dict(\n",
    "        text = r'$y(t)=A\\cos(2t)+ B\\sin(2t)$',\n",
    "        font = dict(\n",
    "            size = 20\n",
    "        ),\n",
    "        y = 0.85,\n",
    "        x = 0.5,\n",
    "        xanchor = 'center',\n",
    "        yanchor = 'top'\n",
    "    ),\n",
    "    showlegend = True\n",
    ")\n",
    "\n",
    "fig = go.FigureWidget(\n",
    "    data = data, layout = layout\n",
    ")\n",
    "\n",
    "###############\n",
    "def update_y0(y0):\n",
    "    fig.data[0].y = y0*np.cos(2*t)+(dy0/2)*np.sin(2*t)\n",
    "    dy0_half = dy0/2.\n",
    "    if dy0 < 0:\n",
    "        dy0_half = abs(dy0_half)\n",
    "        text = str(\"%0.2f\" % y0) + \" cos(2t)\" + \" - \" + str(\"%0.2f\" % dy0_half) + \" sin(2t)\"\n",
    "    else:\n",
    "        text = str(\"%0.2f\" % y0) + \" cos(2t)\" + \" + \" + str(\"%0.2f\" % dy0_half) + \" sin(2t)\"\n",
    "    fig.layout.title = dict(\n",
    "        text = text,\n",
    "        font = dict(\n",
    "            size = 20\n",
    "        ),\n",
    "        y = 0.85,\n",
    "        x = 0.5,\n",
    "        xanchor = 'center',\n",
    "        yanchor = 'top')\n",
    "def update_dy0(dy0):\n",
    "    fig.data[0].y = y0*np.cos(2*t)+(dy0/2)*np.sin(2*t)\n",
    "    dy0_half = dy0/2.\n",
    "    if dy0 < 0:\n",
    "        dy0_half = abs(dy0_half)\n",
    "        text = str(\"%0.2f\" % y0) + \" cos(2t)\" + \" - \" + str(\"%0.2f\" % dy0_half) + \" sin(2t)\"\n",
    "    else:\n",
    "        text = str(\"%0.2f\" % y0) + \" cos(2t)\" + \" + \" + str(\"%0.2f\" % dy0_half) + \" sin(2t)\"\n",
    "    fig.layout.title = dict(\n",
    "        text = text,\n",
    "        font = dict(\n",
    "            size = 20\n",
    "        ),\n",
    "        y = 0.85,\n",
    "        x = 0.5,\n",
    "        xanchor = 'center',\n",
    "        yanchor = 'top')\n",
    "    \n",
    "style = {'description_width': 'initial'}\n",
    "\n",
    "slider_y0 =  FloatSlider(min=-3, max=3, step=0.1, value=1,\n",
    "                       style=style)\n",
    "slider_y0.description = r'$y(0)$'\n",
    "slidery0 = interactive(update_y0, y0=slider_y0)\n",
    "\n",
    "slider_dy0 =  FloatSlider(min=-2, max=5, step=0.1, value=0,\n",
    "                       style=style)\n",
    "slider_dy0.description = r\"$y'(0)$\"\n",
    "sliderdy0 = interactive(update_dy0, dy0=slider_dy0)\n",
    "\n",
    "vb = VBox((fig, slidery0, sliderdy0))\n",
    "vb.layout.align_items = 'center'\n",
    "vb"
   ]
  },
  {
   "cell_type": "code",
   "execution_count": 2,
   "metadata": {
    "init_cell": true,
    "slideshow": {
     "slide_type": "-"
    }
   },
   "outputs": [
    {
     "data": {
      "text/html": [
       "<script src=\"https://cdn.rawgit.com/parente/4c3e6936d0d7a46fd071/raw/65b816fb9bdd3c28b4ddf3af602bfd6015486383/code_toggle.js\"></script>\n"
      ],
      "text/plain": [
       "<IPython.core.display.HTML object>"
      ]
     },
     "metadata": {},
     "output_type": "display_data"
    }
   ],
   "source": [
    "%%html\n",
    "<script src=\"https://cdn.rawgit.com/parente/4c3e6936d0d7a46fd071/raw/65b816fb9bdd3c28b4ddf3af602bfd6015486383/code_toggle.js\"></script>"
   ]
  },
  {
   "cell_type": "code",
   "execution_count": 3,
   "metadata": {
    "init_cell": true,
    "slideshow": {
     "slide_type": "-"
    }
   },
   "outputs": [
    {
     "data": {
      "text/html": [
       "<style>\r\n",
       "div.h1 {\r\n",
       "    font-family: Arial, Helvetica, sans-serif;\r\n",
       "    font-size: 2em;\r\n",
       "    font-weight: bold;\r\n",
       "}\r\n",
       "\r\n",
       "p.author {\r\n",
       "    font-family: 'Times New Roman', Times, serif;\r\n",
       "    font-size: 1.2em;\r\n",
       "    text-align: justify;\r\n",
       "    line-height: normal;\r\n",
       "}\r\n",
       "\r\n",
       "p.date {\r\n",
       "    font-family: 'Times New Roman', Times, serif;\r\n",
       "    font-size: 1em;\r\n",
       "    text-align: justify;\r\n",
       "}\r\n",
       "\r\n",
       "p.abstract {\r\n",
       "    font-family: 'Times New Roman', Times, serif;\r\n",
       "    font-size: 1.5em;\r\n",
       "    text-align: left;\r\n",
       "    line-height: 1.4;\r\n",
       "}\r\n",
       "\r\n",
       "p.normal {\r\n",
       "    font-family: 'Times New Roman', Times, serif;\r\n",
       "    font-size: 1.3em;\r\n",
       "    text-align: justify;\r\n",
       "    line-height: 1.2;\r\n",
       "}\r\n",
       "\r\n",
       "p.normal-indent {\r\n",
       "    font-family: 'Times New Roman', Times, serif;\r\n",
       "    font-size: 1.3em;\r\n",
       "    text-align: justify;\r\n",
       "    line-height: 1.2;\r\n",
       "    text-indent: 0.5em;\r\n",
       "}\r\n",
       "\r\n",
       ".definition {\r\n",
       "    font-size: 1.1em;\r\n",
       "    text-align: left;\r\n",
       "    border-left-color: blue;\r\n",
       "    border-left-style: solid;\r\n",
       "    border-left-width: 0.3em;\r\n",
       "    padding-left: 0.6em;\r\n",
       "}\r\n",
       "\r\n",
       ".theorem {\r\n",
       "    font-size: 1.1em;\r\n",
       "    text-align: left;\r\n",
       "    border-left-color: rgb(255, 47, 0);\r\n",
       "    border-left-style: solid;\r\n",
       "    border-left-width: 0.3em;\r\n",
       "    padding-left: 0.6em;\r\n",
       "    font-style: italic;\r\n",
       "}\r\n",
       "\r\n",
       ".proof {\r\n",
       "    font-size: 1.1em;\r\n",
       "    text-align: left;\r\n",
       "    border-left-color: rgb(19, 114, 27);\r\n",
       "    border-left-style: solid;\r\n",
       "    border-left-width: 0.3em;\r\n",
       "    padding-left: 0.6em;\r\n",
       "}\r\n",
       "\r\n",
       ".exercise {\r\n",
       "    font-size: 1.1em;\r\n",
       "    text-align: left;\r\n",
       "    border-left-color: rgb(204,153,102);\r\n",
       "    border-left-style: solid;\r\n",
       "    border-left-width: 0.3em;\r\n",
       "    padding-left: 0.6em;\r\n",
       "}\r\n",
       "\r\n",
       ".exercise::before {\r\n",
       "    content: counter(exercise) \". Feladat. \";\r\n",
       "    counter-increment: exercise;\r\n",
       "    font-weight: bold;\r\n",
       "}\r\n",
       "\r\n",
       ".solution {\r\n",
       "    font-size: 1.1em;\r\n",
       "    text-align: left;\r\n",
       "    border-left-color: rgb(204,153,102);\r\n",
       "    border-left-style: solid;\r\n",
       "    border-left-width: 0.3em;\r\n",
       "    padding-left: 0.6em;\r\n",
       "}\r\n",
       "\r\n",
       ".solution::before {\r\n",
       "    content: \"Megoldás. \";\r\n",
       "    font-weight: bold;\r\n",
       "}\r\n",
       "\r\n",
       ".solution_no_word {\r\n",
       "    font-size: 1.1em;\r\n",
       "    text-align: left;\r\n",
       "    border-left-color: rgb(204,153,102);\r\n",
       "    border-left-style: solid;\r\n",
       "    border-left-width: 0.3em;\r\n",
       "    padding-left: 0.6em;\r\n",
       "}\r\n",
       "\r\n",
       ".remark {\r\n",
       "    font-size: 1.1em;\r\n",
       "    text-align: left;\r\n",
       "    border-left-color: rgb(255, 153, 153);\r\n",
       "    border-left-style: solid;\r\n",
       "    border-left-width: 0.3em;\r\n",
       "    padding-left: 0.6em;\r\n",
       "    font-style: italic;\r\n",
       "}\r\n",
       "\r\n",
       ".remark::before {\r\n",
       "    content: counter(remark) \". Megjegyzés. \";\r\n",
       "    counter-increment: remark;\r\n",
       "    font-weight: bold;\r\n",
       "\r\n",
       "}\r\n",
       "\r\n",
       ".prompt.output_prompt {\r\n",
       "    visibility: hidden;\r\n",
       "}\r\n",
       "</style>\r\n"
      ],
      "text/plain": [
       "<IPython.core.display.HTML object>"
      ]
     },
     "execution_count": 3,
     "metadata": {},
     "output_type": "execute_result"
    }
   ],
   "source": [
    "from IPython.core.display import HTML\n",
    "import urllib.request\n",
    "response = urllib.request.urlopen('https://raw.githubusercontent.com/wesszabo/Differential-Equations/master/CSS/hw.css')\n",
    "HTML(response.read().decode(\"utf-8\"))"
   ]
  }
 ],
 "metadata": {
  "celltoolbar": "Initialization Cell",
  "hide_input": true,
  "kernelspec": {
   "display_name": "Python 3",
   "language": "python",
   "name": "python3"
  },
  "language_info": {
   "codemirror_mode": {
    "name": "ipython",
    "version": 3
   },
   "file_extension": ".py",
   "mimetype": "text/x-python",
   "name": "python",
   "nbconvert_exporter": "python",
   "pygments_lexer": "ipython3",
   "version": "3.7.6"
  },
  "rise": {
   "autolaunch": true
  },
  "toc": {
   "base_numbering": 1,
   "nav_menu": {
    "height": "47px",
    "width": "177px"
   },
   "number_sections": true,
   "sideBar": true,
   "skip_h1_title": false,
   "title_cell": "2. gyakorlat III. (vi) feladat",
   "title_sidebar": "2. gyakorlat III. (vi) feladat",
   "toc_cell": true,
   "toc_position": {
    "height": "calc(100% - 180px)",
    "left": "10px",
    "top": "150px",
    "width": "165px"
   },
   "toc_section_display": true,
   "toc_window_display": false
  }
 },
 "nbformat": 4,
 "nbformat_minor": 4
}
