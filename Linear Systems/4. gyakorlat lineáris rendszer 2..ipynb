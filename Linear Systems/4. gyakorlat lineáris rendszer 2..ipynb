{
 "cells": [
  {
   "cell_type": "markdown",
   "metadata": {
    "slideshow": {
     "slide_type": "slide"
    },
    "toc": true
   },
   "source": [
    "<h1>4. gyakorlat lineáris rendszer 2.<span class=\"tocSkip\"></span></h1>\n",
    "<div class=\"toc\"><ul class=\"toc-item\"></ul></div>"
   ]
  },
  {
   "cell_type": "markdown",
   "metadata": {
    "slideshow": {
     "slide_type": "slide"
    }
   },
   "source": [
    "<div class='exercise'>\n",
    "Adjuk meg az általános megoldást\n",
    "\n",
    "\\begin{cases} \n",
    "\\begin{align}\n",
    "\\dot{x}_1 &=3x_1-x_2,  \\\\\n",
    "\\dot{x}_2 &=4x_1-x_2. \n",
    "\\end{align}\n",
    "\\end{cases}\n",
    "    \n",
    "</div>"
   ]
  },
  {
   "cell_type": "markdown",
   "metadata": {
    "slideshow": {
     "slide_type": "slide"
    }
   },
   "source": [
    "<div class='solution'>\n",
    "Legyen $\\mathbf{x}=\\begin{bmatrix}\n",
    "x_1 \\\\ \n",
    "x_2 \n",
    "\\end{bmatrix}$.     \n",
    "Az együttható mátrix\n",
    "\n",
    "$$\n",
    "A=\\begin{bmatrix}\n",
    "3 & -1\\\\ \n",
    "4 & -1\n",
    "\\end{bmatrix}.\n",
    "$$\n",
    "    \n",
    "Meg kell határoznunk $A$ sajátértékeit, sajátvektorait.  \n",
    "</div>"
   ]
  },
  {
   "cell_type": "markdown",
   "metadata": {
    "slideshow": {
     "slide_type": "fragment"
    }
   },
   "source": [
    "<div class='solution_no_word'>\n",
    "A sajátértékeket a $\\det(A-\\lambda I)=0$ egyenletből kapjuk meg.\n",
    "Mivel\n",
    "\n",
    "$$\n",
    "\\det(A\\!\\!-\\!\\!\\lambda I)\\!=\\!\n",
    "\\begin{vmatrix}\n",
    "3\\!-\\!\\lambda &\\!\\! -1\\\\ \n",
    "\\!4 &\\!\\! -1\\!-\\!\\lambda\n",
    "\\end{vmatrix}\n",
    "\\!=\\!\\lambda^2\\!\\!-\\!\\!2\\lambda\\!+\\!1,\n",
    "$$\n",
    "\n",
    "ezért $\\lambda_1=1$, $\\lambda_2=1$.\n",
    "</div>"
   ]
  },
  {
   "cell_type": "markdown",
   "metadata": {
    "slideshow": {
     "slide_type": "slide"
    }
   },
   "source": [
    "<div class='solution_no_word'>\n",
    "$\\lambda_1=1$.\n",
    "\n",
    "Az $\\mathbf{u}_1=\n",
    "\\begin{bmatrix}\n",
    "u_{11}\\\\\n",
    "u_{21}\n",
    "\\end{bmatrix}\n",
    "$ sajátvektort a \n",
    "\n",
    "$$\n",
    "\\begin{bmatrix}\n",
    "3-1 & -1\\\\ \n",
    "4 & -1-1\n",
    "\\end{bmatrix}\n",
    "\\begin{bmatrix}\n",
    "u_{11}\\\\\n",
    "u_{21}\n",
    "\\end{bmatrix}=\n",
    "\\begin{bmatrix}\n",
    "0\\\\\n",
    "0\n",
    "\\end{bmatrix}\n",
    "$$\n",
    "\n",
    "egyenletből kapjuk. Azaz, $2u_{11}-u_{21}=0$.\n",
    "\n",
    "Legyen $u_{11}=1$, ekkor $u_{21}=2$. \n",
    "\n",
    "Tehát a $\\lambda_1=1$-hez tartozó sajátvektor $\\mathbf{u}_1=\\begin{bmatrix}\n",
    "1\\\\\n",
    "2\n",
    "\\end{bmatrix}$.\n",
    "</div>"
   ]
  },
  {
   "cell_type": "markdown",
   "metadata": {
    "slideshow": {
     "slide_type": "slide"
    }
   },
   "source": [
    "<div class='solution_no_word'>\n",
    "Az $\\mathbf{u}_2=\n",
    "\\begin{bmatrix}\n",
    "u_{12}\\\\\n",
    "u_{22}\n",
    "\\end{bmatrix}\n",
    "$ (általánosított) sajátvektort az $(A-\\lambda_1 I)\\mathbf{u}_2=\\mathbf{u}_1$ \n",
    "egyenletből határozhatjuk meg.\n",
    "\n",
    "$$\n",
    "\\begin{bmatrix}\n",
    "3-1 & -1\\\\ \n",
    "4 & -1-1\n",
    "\\end{bmatrix}\n",
    "\\begin{bmatrix}\n",
    "u_{12}\\\\\n",
    "u_{22}\n",
    "\\end{bmatrix}=\n",
    "\\begin{bmatrix}\n",
    "1\\\\\n",
    "2\n",
    "\\end{bmatrix}\n",
    "$$\n",
    "\n",
    "Ebből  $2u_{12}-u_{22}=1$.\n",
    "\n",
    "Legyen $u_{12}=0$, ekkor $u_{22}=-1$. \n",
    "\n",
    "Tehát az (általánosított) sajátvektor $\\mathbf{u}_2=\n",
    "\\begin{bmatrix}\n",
    "0\\\\\n",
    "-1\n",
    "\\end{bmatrix}$.\n",
    "</div>"
   ]
  },
  {
   "cell_type": "markdown",
   "metadata": {
    "slideshow": {
     "slide_type": "slide"
    }
   },
   "source": [
    "<div class='solution_no_word'>\n",
    "Az egyenlet összes megoldása\n",
    "\n",
    "$$\n",
    "\\mathbf{x}(t)=c_1e^t\n",
    "\\begin{bmatrix}\n",
    "1\\\\\n",
    "2\n",
    "\\end{bmatrix}\n",
    "+\n",
    "c_2 \\left(te^{t}  \n",
    "\\begin{bmatrix}\n",
    "1\\\\\n",
    "2\n",
    "\\end{bmatrix}\n",
    "+\n",
    "e^t\n",
    "\\begin{bmatrix}\n",
    "0\\\\\n",
    "-1\n",
    "\\end{bmatrix}\n",
    "\\right),\n",
    "$$\n",
    "\n",
    "ahol $c_1,c_2\\in\\mathbf{R}$ tetszőleges. \n",
    "Tehát  \n",
    "\n",
    "\\begin{align}\n",
    "x_1(t) &=c_1e^t+c_2 te^{t},\\\\\n",
    "x_2(t) &=2c_1e^t+2c_2 te^{t}-e^t,\n",
    "\\end{align}\n",
    "\n",
    "ahol $c_1,c_2\\in\\mathbf{R}$ tetszőleges. $\\blacksquare$\n",
    "</div>"
   ]
  },
  {
   "cell_type": "code",
   "execution_count": 1,
   "metadata": {
    "hide_input": false,
    "init_cell": true,
    "scrolled": true,
    "slideshow": {
     "slide_type": "-"
    }
   },
   "outputs": [
    {
     "data": {
      "text/html": [
       "<script src=\"https://cdn.rawgit.com/parente/4c3e6936d0d7a46fd071/raw/65b816fb9bdd3c28b4ddf3af602bfd6015486383/code_toggle.js\"></script>\n"
      ],
      "text/plain": [
       "<IPython.core.display.HTML object>"
      ]
     },
     "metadata": {},
     "output_type": "display_data"
    }
   ],
   "source": [
    "%%html\n",
    "<script src=\"https://cdn.rawgit.com/parente/4c3e6936d0d7a46fd071/raw/65b816fb9bdd3c28b4ddf3af602bfd6015486383/code_toggle.js\"></script>"
   ]
  },
  {
   "cell_type": "code",
   "execution_count": 2,
   "metadata": {
    "hide_input": true,
    "init_cell": true,
    "slideshow": {
     "slide_type": "-"
    }
   },
   "outputs": [
    {
     "data": {
      "text/html": [
       "<style>\r\n",
       "div.h1 {\r\n",
       "    font-family: Arial, Helvetica, sans-serif;\r\n",
       "    font-size: 2em;\r\n",
       "    font-weight: bold;\r\n",
       "}\r\n",
       "\r\n",
       "p.author {\r\n",
       "    font-family: 'Times New Roman', Times, serif;\r\n",
       "    font-size: 1.2em;\r\n",
       "    text-align: justify;\r\n",
       "    line-height: normal;\r\n",
       "}\r\n",
       "\r\n",
       "p.date {\r\n",
       "    font-family: 'Times New Roman', Times, serif;\r\n",
       "    font-size: 1em;\r\n",
       "    text-align: justify;\r\n",
       "}\r\n",
       "\r\n",
       "p.abstract {\r\n",
       "    font-family: 'Times New Roman', Times, serif;\r\n",
       "    font-size: 1.5em;\r\n",
       "    text-align: left;\r\n",
       "    line-height: 1.4;\r\n",
       "}\r\n",
       "\r\n",
       "p.normal {\r\n",
       "    font-family: 'Times New Roman', Times, serif;\r\n",
       "    font-size: 1.3em;\r\n",
       "    text-align: justify;\r\n",
       "    line-height: 1.2;\r\n",
       "}\r\n",
       "\r\n",
       "p.normal-indent {\r\n",
       "    font-family: 'Times New Roman', Times, serif;\r\n",
       "    font-size: 1.3em;\r\n",
       "    text-align: justify;\r\n",
       "    line-height: 1.2;\r\n",
       "    text-indent: 0.5em;\r\n",
       "}\r\n",
       "\r\n",
       ".definition {\r\n",
       "    font-size: 1.1em;\r\n",
       "    text-align: left;\r\n",
       "    border-left-color: blue;\r\n",
       "    border-left-style: solid;\r\n",
       "    border-left-width: 0.3em;\r\n",
       "    padding-left: 0.6em;\r\n",
       "}\r\n",
       "\r\n",
       ".theorem {\r\n",
       "    font-size: 1.1em;\r\n",
       "    text-align: left;\r\n",
       "    border-left-color: rgb(255, 47, 0);\r\n",
       "    border-left-style: solid;\r\n",
       "    border-left-width: 0.3em;\r\n",
       "    padding-left: 0.6em;\r\n",
       "    font-style: italic;\r\n",
       "}\r\n",
       "\r\n",
       ".proof {\r\n",
       "    font-size: 1.1em;\r\n",
       "    text-align: left;\r\n",
       "    border-left-color: rgb(19, 114, 27);\r\n",
       "    border-left-style: solid;\r\n",
       "    border-left-width: 0.3em;\r\n",
       "    padding-left: 0.6em;\r\n",
       "}\r\n",
       "\r\n",
       ".exercise {\r\n",
       "    font-size: 1.1em;\r\n",
       "    text-align: left;\r\n",
       "    border-left-color: rgb(204,153,102);\r\n",
       "    border-left-style: solid;\r\n",
       "    border-left-width: 0.3em;\r\n",
       "    padding-left: 0.6em;\r\n",
       "}\r\n",
       "\r\n",
       ".exercise::before {\r\n",
       "    content: counter(exercise) \". Feladat. \";\r\n",
       "    counter-increment: exercise;\r\n",
       "    font-weight: bold;\r\n",
       "}\r\n",
       "\r\n",
       ".solution {\r\n",
       "    font-size: 1.1em;\r\n",
       "    text-align: left;\r\n",
       "    border-left-color: rgb(204,153,102);\r\n",
       "    border-left-style: solid;\r\n",
       "    border-left-width: 0.3em;\r\n",
       "    padding-left: 0.6em;\r\n",
       "}\r\n",
       "\r\n",
       ".solution::before {\r\n",
       "    content: \"Megoldás. \";\r\n",
       "    font-weight: bold;\r\n",
       "}\r\n",
       "\r\n",
       ".solution_no_word {\r\n",
       "    font-size: 1.1em;\r\n",
       "    text-align: left;\r\n",
       "    border-left-color: rgb(204,153,102);\r\n",
       "    border-left-style: solid;\r\n",
       "    border-left-width: 0.3em;\r\n",
       "    padding-left: 0.6em;\r\n",
       "}\r\n",
       "\r\n",
       ".remark {\r\n",
       "    font-size: 1.1em;\r\n",
       "    text-align: left;\r\n",
       "    border-left-color: rgb(255, 153, 153);\r\n",
       "    border-left-style: solid;\r\n",
       "    border-left-width: 0.3em;\r\n",
       "    padding-left: 0.6em;\r\n",
       "    font-style: italic;\r\n",
       "}\r\n",
       "\r\n",
       ".remark::before {\r\n",
       "    content: counter(remark) \". Megjegyzés. \";\r\n",
       "    counter-increment: remark;\r\n",
       "    font-weight: bold;\r\n",
       "\r\n",
       "}\r\n",
       "\r\n",
       ".prompt.output_prompt {\r\n",
       "    visibility: hidden;\r\n",
       "}\r\n",
       "</style>\r\n"
      ],
      "text/plain": [
       "<IPython.core.display.HTML object>"
      ]
     },
     "execution_count": 2,
     "metadata": {},
     "output_type": "execute_result"
    }
   ],
   "source": [
    "from IPython.core.display import HTML\n",
    "import urllib.request\n",
    "response = urllib.request.urlopen('https://raw.githubusercontent.com/wesszabo/Differential-Equations/master/CSS/hw.css')\n",
    "HTML(response.read().decode(\"utf-8\"))"
   ]
  }
 ],
 "metadata": {
  "celltoolbar": "Initialization Cell",
  "hide_input": true,
  "kernelspec": {
   "display_name": "Python 3",
   "language": "python",
   "name": "python3"
  },
  "language_info": {
   "codemirror_mode": {
    "name": "ipython",
    "version": 3
   },
   "file_extension": ".py",
   "mimetype": "text/x-python",
   "name": "python",
   "nbconvert_exporter": "python",
   "pygments_lexer": "ipython3",
   "version": "3.7.6"
  },
  "rise": {
   "autolaunch": true
  },
  "toc": {
   "base_numbering": 1,
   "nav_menu": {
    "height": "47px",
    "width": "177px"
   },
   "number_sections": true,
   "sideBar": true,
   "skip_h1_title": false,
   "title_cell": "4. gyakorlat lineáris rendszer 2.",
   "title_sidebar": "4. gyakorlat lineáris rendszer 2.",
   "toc_cell": true,
   "toc_position": {
    "height": "calc(100% - 180px)",
    "left": "10px",
    "top": "150px",
    "width": "165px"
   },
   "toc_section_display": true,
   "toc_window_display": false
  }
 },
 "nbformat": 4,
 "nbformat_minor": 4
}
